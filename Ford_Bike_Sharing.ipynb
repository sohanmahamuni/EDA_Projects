{
  "nbformat": 4,
  "nbformat_minor": 0,
  "metadata": {
    "colab": {
      "private_outputs": true,
      "provenance": [],
      "collapsed_sections": [
        "vncDsAP0Gaoa",
        "FJNUwmbgGyua",
        "w6K7xa23Elo4",
        "yQaldy8SH6Dl",
        "PH-0ReGfmX4f",
        "mDgbUHAGgjLW",
        "O_i_v8NEhb9l",
        "HhfV-JJviCcP",
        "Y3lxredqlCYt",
        "3RnN4peoiCZX",
        "x71ZqKXriCWQ",
        "7hBIi_osiCS2",
        "JlHwYmJAmNHm",
        "35m5QtbWiB9F",
        "PoPl-ycgm1ru",
        "H0kj-8xxnORC",
        "nA9Y7ga8ng1Z",
        "PBTbrJXOngz2",
        "u3PMJOP6ngxN",
        "dauF4eBmngu3",
        "bKJF3rekwFvQ",
        "MSa1f5Uengrz",
        "GF8Ens_Soomf",
        "0wOQAZs5pc--",
        "K5QZ13OEpz2H",
        "lQ7QKXXCp7Bj",
        "448CDAPjqfQr",
        "KSlN3yHqYklG",
        "t6dVpIINYklI",
        "ijmpgYnKYklI",
        "-JiQyfWJYklI",
        "EM7whBJCYoAo",
        "fge-S5ZAYoAp",
        "85gYPyotYoAp",
        "RoGjAbkUYoAp",
        "4Of9eVA-YrdM",
        "iky9q4vBYrdO",
        "F6T5p64dYrdO",
        "y-Ehk30pYrdP",
        "bamQiAODYuh1",
        "QHF8YVU7Yuh3",
        "GwzvFGzlYuh3",
        "qYpmQ266Yuh3",
        "OH-pJp9IphqM",
        "bbFf2-_FphqN",
        "_ouA3fa0phqN",
        "Seke61FWphqN",
        "PIIx-8_IphqN",
        "t27r6nlMphqO",
        "r2jJGEOYphqO",
        "b0JNsNcRphqO",
        "BZR9WyysphqO",
        "jj7wYXLtphqO",
        "eZrbJ2SmphqO",
        "rFu4xreNphqO",
        "YJ55k-q6phqO",
        "gCFgpxoyphqP",
        "OVtJsKN_phqQ",
        "lssrdh5qphqQ",
        "U2RJ9gkRphqQ",
        "1M8mcRywphqQ",
        "tgIPom80phqQ",
        "JMzcOPDDphqR",
        "x-EpHcCOp1ci",
        "X_VqEhTip1ck",
        "8zGJKyg5p1ck",
        "PVzmfK_Ep1ck",
        "n3dbpmDWp1ck",
        "ylSl6qgtp1ck",
        "ZWILFDl5p1ck",
        "M7G43BXep1ck",
        "Ag9LCva-p1cl",
        "E6MkPsBcp1cl",
        "2cELzS2fp1cl",
        "3MPXvC8up1cl",
        "NC_X3p0fY2L0",
        "UV0SzAkaZNRQ",
        "YPEH6qLeZNRQ",
        "q29F0dvdveiT",
        "EXh0U9oCveiU",
        "22aHeOlLveiV",
        "JcMwzZxoAimU",
        "8G2x9gOozGDZ",
        "gCX9965dhzqZ",
        "gIfDvo9L0UH2"
      ],
      "include_colab_link": true
    },
    "kernelspec": {
      "name": "python3",
      "display_name": "Python 3"
    },
    "language_info": {
      "name": "python"
    }
  },
  "cells": [
    {
      "cell_type": "markdown",
      "metadata": {
        "id": "view-in-github",
        "colab_type": "text"
      },
      "source": [
        "<a href=\"https://colab.research.google.com/github/sohanmahamuni/EDA_Projects/blob/main/Ford_Bike_Sharing.ipynb\" target=\"_parent\"><img src=\"https://colab.research.google.com/assets/colab-badge.svg\" alt=\"Open In Colab\"/></a>"
      ]
    },
    {
      "cell_type": "markdown",
      "source": [
        "# **Project Name**    - Ford Bike Sharing EDA\n",
        "\n"
      ],
      "metadata": {
        "id": "vncDsAP0Gaoa"
      }
    },
    {
      "cell_type": "markdown",
      "source": [
        "##### **Project Type**    - EDA"
      ],
      "metadata": {
        "id": "beRrZCGUAJYm"
      }
    },
    {
      "cell_type": "markdown",
      "source": [
        "# **Project Summary -**"
      ],
      "metadata": {
        "id": "FJNUwmbgGyua"
      }
    },
    {
      "cell_type": "markdown",
      "source": [
        "The increasing demand for sustainable and efficient transportation in urban areas has fueled the growth of bike-sharing systems around the world. The Ford GoBike bike-sharing dataset provides an in-depth look at user behavior, trip patterns, and temporal trends for a regional bike-sharing system.This project aims to analyze data from Ford GoBike, a prominent bike-sharing service in the San Francisco Bay Area. The dataset covers trips taken in January 2018 and includes rich information such as trip durations, station locations, user demographics, and ride timestamps.This project aimed to explore, clean, and visualize the dataset using the UBM structure (Univariate, Bivariate, Multivariate) to generate actionable insights and support business decision-making."
      ],
      "metadata": {
        "id": "F6v_1wHtG2nS"
      }
    },
    {
      "cell_type": "markdown",
      "source": [
        "# **GitHub Link -**"
      ],
      "metadata": {
        "id": "w6K7xa23Elo4"
      }
    },
    {
      "cell_type": "markdown",
      "source": [
        "https://github.com/sohanmahamuni"
      ],
      "metadata": {
        "id": "h1o69JH3Eqqn"
      }
    },
    {
      "cell_type": "markdown",
      "source": [
        "# **Problem Statement**\n"
      ],
      "metadata": {
        "id": "yQaldy8SH6Dl"
      }
    },
    {
      "cell_type": "markdown",
      "source": [
        "The Ford GoBike system needs to understand customer behavior and usage trends to improve service delivery, enhance user satisfaction, and increase overall ridership.To optimize operations, improve user experience, and guide business strategy, Ford GoBike requires a deep understanding of user behavior, trip patterns, and system usage. The challenge lies in uncovering meaningful insights from a large, raw dataset that can support data-driven decision-making. The goal is to identify the key factors that influence bike-sharing usage and uncover patterns that can guide strategic business decisions."
      ],
      "metadata": {
        "id": "DpeJGUA3kjGy"
      }
    },
    {
      "cell_type": "markdown",
      "source": [
        "#### **Define Your Business Objective?**"
      ],
      "metadata": {
        "id": "PH-0ReGfmX4f"
      }
    },
    {
      "cell_type": "markdown",
      "source": [
        "* Increase customer retention and acquisition through data-driven strategies.\n",
        "\n",
        "* Optimize bike placement, redistribution, and availability during peak hours.\n",
        "\n",
        "* Understand the preferences of various user segments to tailor marketing efforts.\n",
        "\n",
        "* Identify areas or time periods with potential for promotional campaigns or expansion."
      ],
      "metadata": {
        "id": "PhDvGCAqmjP1"
      }
    },
    {
      "cell_type": "markdown",
      "source": [
        "# **General Guidelines** : -  "
      ],
      "metadata": {
        "id": "mDgbUHAGgjLW"
      }
    },
    {
      "cell_type": "markdown",
      "source": [
        "1.   Well-structured, formatted, and commented code is required.\n",
        "2.   Exception Handling, Production Grade Code & Deployment Ready Code will be a plus. Those students will be awarded some additional credits.\n",
        "     \n",
        "     The additional credits will have advantages over other students during Star Student selection.\n",
        "       \n",
        "             [ Note: - Deployment Ready Code is defined as, the whole .ipynb notebook should be executable in one go\n",
        "                       without a single error logged. ]\n",
        "\n",
        "3.   Each and every logic should have proper comments.\n",
        "4. You may add as many number of charts you want. Make Sure for each and every chart the following format should be answered.\n",
        "        \n",
        "\n",
        "```\n",
        "# Chart visualization code\n",
        "```\n",
        "            \n",
        "\n",
        "*   Why did you pick the specific chart?\n",
        "*   What is/are the insight(s) found from the chart?\n",
        "* Will the gained insights help creating a positive business impact?\n",
        "Are there any insights that lead to negative growth? Justify with specific reason.\n",
        "\n",
        "5. You have to create at least 20 logical & meaningful charts having important insights.\n",
        "\n",
        "\n",
        "[ Hints : - Do the Vizualization in  a structured way while following \"UBM\" Rule.\n",
        "\n",
        "U - Univariate Analysis,\n",
        "\n",
        "B - Bivariate Analysis (Numerical - Categorical, Numerical - Numerical, Categorical - Categorical)\n",
        "\n",
        "M - Multivariate Analysis\n",
        " ]\n",
        "\n",
        "\n",
        "\n"
      ],
      "metadata": {
        "id": "ZrxVaUj-hHfC"
      }
    },
    {
      "cell_type": "markdown",
      "source": [
        "# ***Let's Begin !***"
      ],
      "metadata": {
        "id": "O_i_v8NEhb9l"
      }
    },
    {
      "cell_type": "markdown",
      "source": [
        "## ***1. Know Your Data***"
      ],
      "metadata": {
        "id": "HhfV-JJviCcP"
      }
    },
    {
      "cell_type": "markdown",
      "source": [
        "### Import Libraries"
      ],
      "metadata": {
        "id": "Y3lxredqlCYt"
      }
    },
    {
      "cell_type": "code",
      "source": [
        "# Import Libraries\n",
        "import pandas as pd\n",
        "import numpy as np\n",
        "import matplotlib.pyplot as plt\n",
        "import seaborn as sns\n",
        "import missingno as msno"
      ],
      "metadata": {
        "id": "M8Vqi-pPk-HR"
      },
      "execution_count": null,
      "outputs": []
    },
    {
      "cell_type": "markdown",
      "source": [
        "### Dataset Loading"
      ],
      "metadata": {
        "id": "3RnN4peoiCZX"
      }
    },
    {
      "cell_type": "code",
      "source": [
        "# Load Dataset\n",
        "df = pd.read_csv('201801-fordgobike-tripdata.csv')"
      ],
      "metadata": {
        "id": "4CkvbW_SlZ_R"
      },
      "execution_count": null,
      "outputs": []
    },
    {
      "cell_type": "markdown",
      "source": [
        "### Dataset First View"
      ],
      "metadata": {
        "id": "x71ZqKXriCWQ"
      }
    },
    {
      "cell_type": "code",
      "source": [
        "# Dataset First Look\n",
        "df.head()"
      ],
      "metadata": {
        "id": "LWNFOSvLl09H"
      },
      "execution_count": null,
      "outputs": []
    },
    {
      "cell_type": "markdown",
      "source": [
        "### Dataset Rows & Columns count"
      ],
      "metadata": {
        "id": "7hBIi_osiCS2"
      }
    },
    {
      "cell_type": "code",
      "source": [
        "# Dataset Rows & Columns count\n",
        "df.shape"
      ],
      "metadata": {
        "id": "Kllu7SJgmLij"
      },
      "execution_count": null,
      "outputs": []
    },
    {
      "cell_type": "markdown",
      "source": [
        "### Dataset Information"
      ],
      "metadata": {
        "id": "JlHwYmJAmNHm"
      }
    },
    {
      "cell_type": "code",
      "source": [
        "# Dataset Info\n",
        "df.info()"
      ],
      "metadata": {
        "id": "e9hRXRi6meOf"
      },
      "execution_count": null,
      "outputs": []
    },
    {
      "cell_type": "markdown",
      "source": [
        "#### Duplicate Values"
      ],
      "metadata": {
        "id": "35m5QtbWiB9F"
      }
    },
    {
      "cell_type": "code",
      "source": [
        "# Dataset Duplicate Value Count\n",
        "df.duplicated().sum()"
      ],
      "metadata": {
        "id": "1sLdpKYkmox0"
      },
      "execution_count": null,
      "outputs": []
    },
    {
      "cell_type": "markdown",
      "source": [
        "#### Missing Values/Null Values"
      ],
      "metadata": {
        "id": "PoPl-ycgm1ru"
      }
    },
    {
      "cell_type": "code",
      "source": [
        "# Missing Values/Null Values Count\n",
        "missing_values = df.isnull().sum().sort_values(ascending=False)\n",
        "missing_values[missing_values > 0]"
      ],
      "metadata": {
        "id": "GgHWkxvamxVg"
      },
      "execution_count": null,
      "outputs": []
    },
    {
      "cell_type": "code",
      "source": [
        "# Visualizing the missing values\n",
        "msno.matrix(df)\n",
        "plt.title(\"Missing Values Matrix\")\n",
        "plt.show()"
      ],
      "metadata": {
        "id": "3q5wnI3om9sJ"
      },
      "execution_count": null,
      "outputs": []
    },
    {
      "cell_type": "markdown",
      "source": [
        "### What did you know about your dataset?"
      ],
      "metadata": {
        "id": "H0kj-8xxnORC"
      }
    },
    {
      "cell_type": "markdown",
      "source": [
        "Answer Here"
      ],
      "metadata": {
        "id": "gfoNAAC-nUe_"
      }
    },
    {
      "cell_type": "markdown",
      "source": [
        "## ***2. Understanding Your Variables***"
      ],
      "metadata": {
        "id": "nA9Y7ga8ng1Z"
      }
    },
    {
      "cell_type": "code",
      "source": [
        "# Dataset Columns\n",
        "df.columns.tolist()"
      ],
      "metadata": {
        "id": "j7xfkqrt5Ag5"
      },
      "execution_count": null,
      "outputs": []
    },
    {
      "cell_type": "code",
      "source": [
        "# Dataset Describe\n",
        "df.describe()"
      ],
      "metadata": {
        "id": "DnOaZdaE5Q5t"
      },
      "execution_count": null,
      "outputs": []
    },
    {
      "cell_type": "markdown",
      "source": [
        "### Variables Description"
      ],
      "metadata": {
        "id": "PBTbrJXOngz2"
      }
    },
    {
      "cell_type": "markdown",
      "source": [
        "Answer Here"
      ],
      "metadata": {
        "id": "aJV4KIxSnxay"
      }
    },
    {
      "cell_type": "markdown",
      "source": [
        "### Check Unique Values for each variable."
      ],
      "metadata": {
        "id": "u3PMJOP6ngxN"
      }
    },
    {
      "cell_type": "code",
      "source": [
        "# Check Unique Values for each variable.\n",
        "unique_values = df.nunique().sort_values(ascending=False)\n",
        "unique_values"
      ],
      "metadata": {
        "id": "zms12Yq5n-jE"
      },
      "execution_count": null,
      "outputs": []
    },
    {
      "cell_type": "markdown",
      "source": [
        "## 3. ***Data Wrangling***"
      ],
      "metadata": {
        "id": "dauF4eBmngu3"
      }
    },
    {
      "cell_type": "markdown",
      "source": [
        "### Data Wrangling Code"
      ],
      "metadata": {
        "id": "bKJF3rekwFvQ"
      }
    },
    {
      "cell_type": "code",
      "source": [
        "# Write your code to make your dataset analysis ready.\n",
        "\n",
        "# 1. Convert Start and End Time to datetime\n",
        "\n",
        "df['start_time'] = pd.to_datetime(df['start_time'])\n",
        "df['end_time'] = pd.to_datetime(df['end_time'])\n",
        "\n",
        "# 2. Create trip_duration_minutes column\n",
        "\n",
        "df['trip_duration_minutes'] = df['duration_sec'] / 60\n",
        "\n",
        "\n",
        "# 3. Extract temporal features (month, hour, day of week, season)\n",
        "\n",
        "df['month'] = df['start_time'].dt.month\n",
        "df['day_of_week'] = df['start_time'].dt.day_name()\n",
        "df['hour'] = df['start_time'].dt.hour\n",
        "\n",
        "# Clean up invalid or extreme data\n",
        "\n",
        "# Remove trips with 0 or negative duration\n",
        "df = df[df['trip_duration_minutes'] > 0]\n",
        "\n",
        "# Optional: Remove extremely long trips (outliers)\n",
        "df = df[df['trip_duration_minutes'] < 300]  # trips longer than 5 hours are rare\n",
        "\n",
        "\n",
        "# Check for missing values\n",
        "\n",
        "print(\"\\nMissing values per column:\")\n",
        "print(df.isnull().sum())\n",
        "\n",
        "# filling missing values\n",
        "df['member_gender'].fillna('Unknown', inplace=True)\n",
        "df['member_birth_year'].fillna(df['member_birth_year'].median(), inplace=True)\n",
        "\n",
        "# Final check\n",
        "\n",
        "print(\"\\nDataset shape after cleaning:\", df.shape)\n",
        "print(\"Columns available:\", df.columns.tolist())"
      ],
      "metadata": {
        "id": "wk-9a2fpoLcV"
      },
      "execution_count": null,
      "outputs": []
    },
    {
      "cell_type": "markdown",
      "source": [
        "### What all manipulations have you done and insights you found?"
      ],
      "metadata": {
        "id": "MSa1f5Uengrz"
      }
    },
    {
      "cell_type": "markdown",
      "source": [
        "**Manipulations:**\n",
        "\n",
        "* Converted start_time and end_time to datetime format.\n",
        "\n",
        "* Added trip_duration_minutes for better interpretability.\n",
        "\n",
        "* Extracted month, day_of_week, and hour for temporal analysis.\n",
        "\n",
        "* Filtered out invalid trips (zero or negative durations).\n",
        "\n",
        "* Removed extremely long trips (> 300 minutes) as outliers.\n",
        "\n",
        "* Dropped rows with missing user type (to keep relevant data).\n",
        "\n",
        "* filling missing values of member_birth_year with median values for birth year and member_gender  with a placeholder 'Unknown' for gender.\n",
        "\n",
        "**Initial Insights:**\n",
        "\n",
        "* The dataset includes rich time-based features.Dataset has 94,563 records after cleaning.\n",
        "\n",
        "* The time-based features (month, hour, season, etc.) are now ready for temporal analysis.\n",
        "\n",
        "* Most trips are under 1 hour; extremely long trips are rare and likely outliers.\n",
        "\n",
        "* There are clear patterns that could emerge by month, season, and user type (we’ll explore that in the next steps!)."
      ],
      "metadata": {
        "id": "LbyXE7I1olp8"
      }
    },
    {
      "cell_type": "markdown",
      "source": [
        "## ***4. Data Vizualization, Storytelling & Experimenting with charts : Understand the relationships between variables***"
      ],
      "metadata": {
        "id": "GF8Ens_Soomf"
      }
    },
    {
      "cell_type": "markdown",
      "source": [
        "# Univariate Analysis"
      ],
      "metadata": {
        "id": "Tj-uKEuOva6Y"
      }
    },
    {
      "cell_type": "markdown",
      "source": [
        "#### Chart - 1"
      ],
      "metadata": {
        "id": "0wOQAZs5pc--"
      }
    },
    {
      "cell_type": "code",
      "source": [
        "# Chart - 1 visualization code\n",
        "# 1. Distribution of Trip Duration\n",
        "sns.set(style=\"whitegrid\")\n",
        "plt.figure(figsize=(10,5))\n",
        "sns.histplot(df['trip_duration_minutes'], bins=100, color='skyblue')\n",
        "plt.title('Distribution of Trip Durations')\n",
        "plt.xlabel('Duration (minutes)')\n",
        "plt.ylabel('Count')\n",
        "plt.xlim(0, 60)  # Focus on realistic durations\n",
        "plt.show()"
      ],
      "metadata": {
        "id": "7v_ESjsspbW7"
      },
      "execution_count": null,
      "outputs": []
    },
    {
      "cell_type": "markdown",
      "source": [
        "##### 1. Why did you pick the specific chart?"
      ],
      "metadata": {
        "id": "K5QZ13OEpz2H"
      }
    },
    {
      "cell_type": "markdown",
      "source": [
        "A histogram is the most effective way to visualize the distribution of a single continuous variable. In this case, trip duration is a key metric in understanding how long users typically ride bikes."
      ],
      "metadata": {
        "id": "XESiWehPqBRc"
      }
    },
    {
      "cell_type": "markdown",
      "source": [
        "##### 2. What is/are the insight(s) found from the chart?"
      ],
      "metadata": {
        "id": "lQ7QKXXCp7Bj"
      }
    },
    {
      "cell_type": "markdown",
      "source": [
        "* Most bike trips fall between 5 to 15 minutes, with a sharp peak around 7–8 minutes.\n",
        "\n",
        "* The distribution is right-skewed, meaning there are fewer trips with very long durations.\n",
        "\n",
        "* The frequency of trips decreases significantly after the 15-minute mark.\n",
        "\n",
        "* Very long trips (over 30–40 minutes) are rare, possibly indicating outliers or different user intentions (e.g., leisure instead of commuting)."
      ],
      "metadata": {
        "id": "C_j1G7yiqdRP"
      }
    },
    {
      "cell_type": "markdown",
      "source": [
        "##### 3. Will the gained insights help creating a positive business impact?\n",
        "Are there any insights that lead to negative growth? Justify with specific reason."
      ],
      "metadata": {
        "id": "448CDAPjqfQr"
      }
    },
    {
      "cell_type": "markdown",
      "source": [
        "* These findings suggest that short-duration trips dominate usage, likely due to commuting or quick errands, which can inform fleet rebalancing and availability strategies during peak hours.\n",
        "\n",
        "* Pricing models can be optimized to encourage shorter trips and discourage longer durations that tie up bikes for extended periods.\n",
        "\n",
        "* Additionally, maintenance scheduling can be better aligned with the average wear-and-tear based on typical trip durations.\n",
        "\n",
        "No negative growth insights, but understanding rare long-duration trips can help flag abnormal use cases or improve fraud detection systems."
      ],
      "metadata": {
        "id": "3cspy4FjqxJW"
      }
    },
    {
      "cell_type": "markdown",
      "source": [
        "#### Chart - 2"
      ],
      "metadata": {
        "id": "KSlN3yHqYklG"
      }
    },
    {
      "cell_type": "code",
      "source": [
        "# Chart - 2 visualization code\n",
        "# 2. Count of User Type\n",
        "sns.countplot(data=df, x='user_type', palette='Set2')\n",
        "plt.title('User Type Distribution')\n",
        "plt.show()"
      ],
      "metadata": {
        "id": "R4YgtaqtYklH"
      },
      "execution_count": null,
      "outputs": []
    },
    {
      "cell_type": "markdown",
      "source": [
        "##### 1. Why did you pick the specific chart?"
      ],
      "metadata": {
        "id": "t6dVpIINYklI"
      }
    },
    {
      "cell_type": "markdown",
      "source": [
        "A bar chart is ideal for comparing categorical variables like user types. It clearly visualizes the proportion of each category, helping identify which group dominates system usage. Since user type is central to business strategy (subscriber vs. casual user), understanding this split is critical."
      ],
      "metadata": {
        "id": "5aaW0BYyYklI"
      }
    },
    {
      "cell_type": "markdown",
      "source": [
        "##### 2. What is/are the insight(s) found from the chart?"
      ],
      "metadata": {
        "id": "ijmpgYnKYklI"
      }
    },
    {
      "cell_type": "markdown",
      "source": [
        "* The number of Subscribers is significantly higher than Customers.\n",
        "\n",
        "* Subscribers outnumber Customers by nearly a 7:1 ratio.\n",
        "\n",
        "* This indicates that most users prefer long-term membership plans rather than occasional rentals."
      ],
      "metadata": {
        "id": "PSx9atu2YklI"
      }
    },
    {
      "cell_type": "markdown",
      "source": [
        "##### 3. Will the gained insights help creating a positive business impact?\n",
        "Are there any insights that lead to negative growth? Justify with specific reason."
      ],
      "metadata": {
        "id": "-JiQyfWJYklI"
      }
    },
    {
      "cell_type": "markdown",
      "source": [
        "* The dominance of subscribers suggests the business is successful at retaining customers long-term, which is generally more cost-effective than acquiring new customers frequently.\n",
        "\n",
        "* This insight can encourage the company to enhance subscriber loyalty programs and offer tiered subscription options.\n",
        "\n",
        "* However, the low number of casual customers may indicate a missed opportunity in attracting one-time or tourist riders. Targeted marketing campaigns or flexible pricing for casual users could help diversify the user base.\n",
        "\n",
        "No direct insight suggesting negative growth, but the imbalance hints at an untapped market segment."
      ],
      "metadata": {
        "id": "BcBbebzrYklV"
      }
    },
    {
      "cell_type": "markdown",
      "source": [
        "#### Chart - 3"
      ],
      "metadata": {
        "id": "EM7whBJCYoAo"
      }
    },
    {
      "cell_type": "code",
      "source": [
        "# Chart - 3 visualization code\n",
        "# 3. Gender Distribution\n",
        "sns.countplot(data=df, x='member_gender', palette='coolwarm')\n",
        "plt.title('Gender Distribution')\n",
        "plt.show()"
      ],
      "metadata": {
        "id": "t6GMdE67YoAp"
      },
      "execution_count": null,
      "outputs": []
    },
    {
      "cell_type": "markdown",
      "source": [
        "##### 1. Why did you pick the specific chart?"
      ],
      "metadata": {
        "id": "fge-S5ZAYoAp"
      }
    },
    {
      "cell_type": "markdown",
      "source": [
        "A bar chart is effective for visualizing the distribution of categorical variables like gender. This format helps quickly identify imbalances in user demographics, which is valuable for targeting marketing and improving inclusivity in service design."
      ],
      "metadata": {
        "id": "5dBItgRVYoAp"
      }
    },
    {
      "cell_type": "markdown",
      "source": [
        "##### 2. What is/are the insight(s) found from the chart?"
      ],
      "metadata": {
        "id": "85gYPyotYoAp"
      }
    },
    {
      "cell_type": "markdown",
      "source": [
        "* The majority of users are Male, followed by Female users.\n",
        "\n",
        "* There is a relatively high number of Unknown gender entries, which indicates missing or uncollected data.\n",
        "\n",
        "* Users identifying as Other make up a very small proportion."
      ],
      "metadata": {
        "id": "4jstXR6OYoAp"
      }
    },
    {
      "cell_type": "markdown",
      "source": [
        "##### 3. Will the gained insights help creating a positive business impact?\n",
        "Are there any insights that lead to negative growth? Justify with specific reason."
      ],
      "metadata": {
        "id": "RoGjAbkUYoAp"
      }
    },
    {
      "cell_type": "markdown",
      "source": [
        "**The insights that can help creating a positive business impact in the following ways:**\n",
        "\n",
        "* These insights help the company understand its core demographic and can guide targeted campaigns—for example, promoting the service in ways that appeal to female riders or gender minorities.\n",
        "\n",
        "* The large number of “Unknown” entries highlights a data quality issue, which can be addressed to improve future analysis and personalization.\n",
        "\n",
        "**Insights that lead to negative growth:**\n",
        "\n",
        "No direct sign of negative growth, but:\n",
        "\n",
        "* Over-reliance on a single gender group (e.g., males) may limit market reach.\n",
        "\n",
        "* By identifying underrepresented groups, the company can take steps to broaden its appeal—potentially increasing ridership and revenue."
      ],
      "metadata": {
        "id": "zfJ8IqMcYoAp"
      }
    },
    {
      "cell_type": "markdown",
      "source": [
        "#### Chart - 4"
      ],
      "metadata": {
        "id": "4Of9eVA-YrdM"
      }
    },
    {
      "cell_type": "code",
      "source": [
        "# Chart - 4 visualization code\n",
        "plt.figure(figsize=(10,5))\n",
        "sns.countplot(data=df, x='day_of_week', order=['Monday', 'Tuesday', 'Wednesday', 'Thursday', 'Friday', 'Saturday', 'Sunday'])\n",
        "plt.title('Trips per Day of the Week')\n",
        "plt.show()\n"
      ],
      "metadata": {
        "id": "irlUoxc8YrdO"
      },
      "execution_count": null,
      "outputs": []
    },
    {
      "cell_type": "markdown",
      "source": [
        "##### 1. Why did you pick the specific chart?"
      ],
      "metadata": {
        "id": "iky9q4vBYrdO"
      }
    },
    {
      "cell_type": "markdown",
      "source": [
        "A bar chart effectively shows how trip volumes vary by day, helping to identify daily usage patterns. It’s ideal for comparing categorical data like weekdays, making it easy to spot peak and low activity days."
      ],
      "metadata": {
        "id": "aJRCwT6DYrdO"
      }
    },
    {
      "cell_type": "markdown",
      "source": [
        "##### 2. What is/are the insight(s) found from the chart?"
      ],
      "metadata": {
        "id": "F6T5p64dYrdO"
      }
    },
    {
      "cell_type": "markdown",
      "source": [
        "* Weekdays have higher trip counts than weekends, with Tuesday and Wednesday being the most active days.\n",
        "\n",
        "* Saturday and Sunday see significantly fewer trips, suggesting that bike usage is mainly for commuting or weekday routines, rather than leisure."
      ],
      "metadata": {
        "id": "Xx8WAJvtYrdO"
      }
    },
    {
      "cell_type": "markdown",
      "source": [
        "##### 3. Will the gained insights help creating a positive business impact?\n",
        "Are there any insights that lead to negative growth? Justify with specific reason."
      ],
      "metadata": {
        "id": "y-Ehk30pYrdP"
      }
    },
    {
      "cell_type": "markdown",
      "source": [
        "**The insights that can help creating a positive business impact in the following ways:**\n",
        "\n",
        "* Knowing peak usage days allows for better resource allocation, such as increasing bike availability and maintenance schedules on high-demand days.\n",
        "\n",
        "* This insight can inform weekday-based promotions or pricing strategies to maintain or boost usage.\n",
        "\n",
        "**Insights that lead to negative growth:**\n",
        "\n",
        "* The dip on weekends might signal untapped potential for recreational users. Marketing campaigns, special weekend offers, or leisure-focused routes could help diversify the user base and boost weekend ridership."
      ],
      "metadata": {
        "id": "jLNxxz7MYrdP"
      }
    },
    {
      "cell_type": "markdown",
      "source": [
        "#### Chart - 5"
      ],
      "metadata": {
        "id": "bamQiAODYuh1"
      }
    },
    {
      "cell_type": "code",
      "source": [
        "# Chart - 5 visualization code\n",
        "plt.figure(figsize=(10,5))\n",
        "sns.countplot(data=df, x='hour', palette='viridis')\n",
        "plt.title('Trips by Hour of Day')\n",
        "plt.xlabel('Hour')\n",
        "plt.show()"
      ],
      "metadata": {
        "id": "TIJwrbroYuh3"
      },
      "execution_count": null,
      "outputs": []
    },
    {
      "cell_type": "markdown",
      "source": [
        "##### 1. Why did you pick the specific chart?"
      ],
      "metadata": {
        "id": "QHF8YVU7Yuh3"
      }
    },
    {
      "cell_type": "markdown",
      "source": [
        "A bar chart was chosen to clearly show how bike usage is distributed across the 24-hour day. It’s the most effective way to highlight peak and off-peak hours at a glance and helps in spotting user behavior patterns."
      ],
      "metadata": {
        "id": "dcxuIMRPYuh3"
      }
    },
    {
      "cell_type": "markdown",
      "source": [
        "##### 2. What is/are the insight(s) found from the chart?"
      ],
      "metadata": {
        "id": "GwzvFGzlYuh3"
      }
    },
    {
      "cell_type": "markdown",
      "source": [
        "* There are two major peaks: Morning peak at 8 AM, aligning with work commute hours. And evening peak at 5 PM, corresponding with end-of-work commutes.\n",
        "\n",
        "* Very few trips occur during late night and early morning hours (12 AM to 5 AM).\n",
        "\n",
        "* Moderate and consistent usage is seen from 10 AM to 3 PM, possibly by students, tourists, or flexible workers."
      ],
      "metadata": {
        "id": "uyqkiB8YYuh3"
      }
    },
    {
      "cell_type": "markdown",
      "source": [
        "##### 3. Will the gained insights help creating a positive business impact?\n",
        "Are there any insights that lead to negative growth? Justify with specific reason."
      ],
      "metadata": {
        "id": "qYpmQ266Yuh3"
      }
    },
    {
      "cell_type": "markdown",
      "source": [
        "**The insights that can help creating a positive business impact in the following ways:**\n",
        "\n",
        "* The clear commuter peaks suggest that bike availability and maintenance efforts should be intensified around rush hours to meet demand and ensure customer satisfaction.\n",
        "\n",
        "* Dynamic pricing can be introduced based on usage hours, encouraging off-peak usage.\n",
        "\n",
        "* For growth, targeted promotions can be designed to boost midday or evening non-commute usage, possibly appealing to tourists or casual riders."
      ],
      "metadata": {
        "id": "_WtzZ_hCYuh4"
      }
    },
    {
      "cell_type": "markdown",
      "source": [
        "# Bivariate Analysis"
      ],
      "metadata": {
        "id": "xQlorTvdvUU9"
      }
    },
    {
      "cell_type": "markdown",
      "source": [
        "#### Chart - 6"
      ],
      "metadata": {
        "id": "OH-pJp9IphqM"
      }
    },
    {
      "cell_type": "code",
      "source": [
        "# Chart - 6 visualization code\n",
        "sns.boxplot(data=df, x='user_type', y='trip_duration_minutes', palette='pastel')\n",
        "plt.title('Trip Duration by User Type')\n",
        "plt.ylim(0, 60)\n",
        "plt.show()"
      ],
      "metadata": {
        "id": "kuRf4wtuphqN"
      },
      "execution_count": null,
      "outputs": []
    },
    {
      "cell_type": "markdown",
      "source": [
        "##### 1. Why did you pick the specific chart?"
      ],
      "metadata": {
        "id": "bbFf2-_FphqN"
      }
    },
    {
      "cell_type": "markdown",
      "source": [
        "A box plot is ideal for showing the distribution of trip durations across different user types. It helps highlight central tendencies (medians), variability (interquartile range), and presence of outliers, all of which are crucial for understanding usage behavior."
      ],
      "metadata": {
        "id": "loh7H2nzphqN"
      }
    },
    {
      "cell_type": "markdown",
      "source": [
        "##### 2. What is/are the insight(s) found from the chart?"
      ],
      "metadata": {
        "id": "_ouA3fa0phqN"
      }
    },
    {
      "cell_type": "markdown",
      "source": [
        "* Customers (casual users) tend to have longer trip durations, with a higher median and wider spread.\n",
        "\n",
        "* Subscribers (regular users) have shorter, more consistent trips, suggesting regular, purpose-driven use (like commuting).\n",
        "\n",
        "* There are significant outliers in both groups, particularly among subscribers, possibly due to unusual or recreational rides."
      ],
      "metadata": {
        "id": "VECbqPI7phqN"
      }
    },
    {
      "cell_type": "markdown",
      "source": [
        "##### 3. Will the gained insights help creating a positive business impact?\n",
        "Are there any insights that lead to negative growth? Justify with specific reason."
      ],
      "metadata": {
        "id": "Seke61FWphqN"
      }
    },
    {
      "cell_type": "markdown",
      "source": [
        "**The insights that can help creating a positive business impact in the following ways:**\n",
        "\n",
        "These insights can be used to personalize offerings:\n",
        "\n",
        "* Create tailored packages for customers, focusing on leisure riding, sightseeing routes, or tourist bundles.\n",
        "\n",
        "* For subscribers, ensure availability during commute times and offer time-efficient features like quick checkouts or route optimization.\n",
        "\n",
        "Pricing strategies can also differ:\n",
        "\n",
        "* Encourage customers to subscribe by highlighting cost-effectiveness for frequent or shorter rides.\n"
      ],
      "metadata": {
        "id": "DW4_bGpfphqN"
      }
    },
    {
      "cell_type": "markdown",
      "source": [
        "#### Chart - 7"
      ],
      "metadata": {
        "id": "PIIx-8_IphqN"
      }
    },
    {
      "cell_type": "code",
      "source": [
        "# Chart - 7 visualization code\n",
        "sns.boxplot(data=df, x='member_gender', y='trip_duration_minutes', palette='Set3')\n",
        "plt.title('Trip Duration by Gender')\n",
        "plt.ylim(0, 60)\n",
        "plt.xlabel('Gender')\n",
        "plt.ylabel('Trip Duration (minutes)')\n",
        "plt.show()"
      ],
      "metadata": {
        "id": "lqAIGUfyphqO"
      },
      "execution_count": null,
      "outputs": []
    },
    {
      "cell_type": "markdown",
      "source": [
        "##### 1. Why did you pick the specific chart?"
      ],
      "metadata": {
        "id": "t27r6nlMphqO"
      }
    },
    {
      "cell_type": "markdown",
      "source": [
        "A box plot is ideal for comparing trip duration distributions across multiple gender categories. It clearly highlights central tendencies, variability, and outliers, enabling us to detect behavioral differences among gender identities."
      ],
      "metadata": {
        "id": "iv6ro40sphqO"
      }
    },
    {
      "cell_type": "markdown",
      "source": [
        "##### 2. What is/are the insight(s) found from the chart?"
      ],
      "metadata": {
        "id": "r2jJGEOYphqO"
      }
    },
    {
      "cell_type": "markdown",
      "source": [
        "* Riders marked as “Unknown” gender have the longest average and widest range of trip durations.\n",
        "\n",
        "* Male riders have the shortest trip durations on average, followed by Female, and then Other.\n",
        "\n",
        "* There are significant outliers across all gender categories, especially among males.\n",
        "\n",
        "* The data suggests that users with “Unknown” gender may be tourists or occasional riders, possibly overlapping with the “Customer” user type observed in above Chart."
      ],
      "metadata": {
        "id": "Po6ZPi4hphqO"
      }
    },
    {
      "cell_type": "markdown",
      "source": [
        "##### 3. Will the gained insights help creating a positive business impact?\n",
        "Are there any insights that lead to negative growth? Justify with specific reason."
      ],
      "metadata": {
        "id": "b0JNsNcRphqO"
      }
    },
    {
      "cell_type": "markdown",
      "source": [
        "**The insights that can help creating a positive business impact in the following ways:**\n",
        "\n",
        "* Shorter durations among male riders could imply regular, utilitarian use, aligning with commuter-targeted services.\n",
        "\n",
        "* Improving gender-inclusive features (e.g., personalized onboarding or interface options) might improve sign-up and engagement rates for the \"Other\" and \"Unknown\" groups.\n",
        "\n",
        "**Insights that lead to negative growth:**\n",
        "\n",
        "* Potential negative impact may come from not understanding or engaging with underrepresented gender groups effectively. Without tailored engagement, there's a risk of lost conversion or loyalty opportunities."
      ],
      "metadata": {
        "id": "xvSq8iUTphqO"
      }
    },
    {
      "cell_type": "markdown",
      "source": [
        "#### Chart - 8"
      ],
      "metadata": {
        "id": "BZR9WyysphqO"
      }
    },
    {
      "cell_type": "code",
      "source": [
        "# Chart - 8 visualization code\n",
        "sns.lineplot(data=df, x='hour', y='trip_duration_minutes', estimator='mean')\n",
        "plt.title('Avg Trip Duration per Hour')\n",
        "plt.show()"
      ],
      "metadata": {
        "id": "TdPTWpAVphqO"
      },
      "execution_count": null,
      "outputs": []
    },
    {
      "cell_type": "markdown",
      "source": [
        "##### 1. Why did you pick the specific chart?"
      ],
      "metadata": {
        "id": "jj7wYXLtphqO"
      }
    },
    {
      "cell_type": "markdown",
      "source": [
        "A line plot with a confidence interval is perfect for visualizing how the average trip duration varies across different hours of the day. This chart captures both central tendency and variability, revealing behavioral trends in how long people ride bikes at different times."
      ],
      "metadata": {
        "id": "Ob8u6rCTphqO"
      }
    },
    {
      "cell_type": "markdown",
      "source": [
        "##### 2. What is/are the insight(s) found from the chart?"
      ],
      "metadata": {
        "id": "eZrbJ2SmphqO"
      }
    },
    {
      "cell_type": "markdown",
      "source": [
        "* Early morning hours (around 2 AM–4 AM) have spikes in average trip duration, with high variability — possibly due to leisure or non-commuting users.\n",
        "\n",
        "* After 5 AM, trip durations drop and remain relatively stable, especially during typical commuting hours (8–10 AM and 5–7 PM).\n",
        "\n",
        "* A modest rise is observed between 12 PM and 2 PM, likely corresponding to lunch-hour trips.\n",
        "\n",
        "* The lowest durations occur between 5 AM–7 AM, which aligns with a surge in trip count (as seen in Chart 5) — likely due to short, purpose-driven commutes."
      ],
      "metadata": {
        "id": "mZtgC_hjphqO"
      }
    },
    {
      "cell_type": "markdown",
      "source": [
        "##### 3. Will the gained insights help creating a positive business impact?\n",
        "Are there any insights that lead to negative growth? Justify with specific reason."
      ],
      "metadata": {
        "id": "rFu4xreNphqO"
      }
    },
    {
      "cell_type": "markdown",
      "source": [
        "**The insights that can help creating a positive business impact in the following ways:**\n",
        "\n",
        "* The high-duration, low-volume hours (late night/early morning) present a niche marketing opportunity — possibly for night-tour promotions or targeting shift workers.\n",
        "\n",
        "* The midday bump in duration could inspire “lunch break ride” campaigns.\n",
        "\n",
        "* Understanding that trips are shorter during commute peaks helps in fleet management — ensuring rapid turnover and bike availability during those windows.\n",
        "\n",
        "* Recognizing when users spend more time riding can also help in planning rest stops, scenic routes, or premium pricing strategies for extended-use hours.\n",
        "\n",
        "**Insights that lead to negative growth:**\n",
        "\n",
        "* The average trip duration is high during late-night hours (12 AM – 5 AM), but demand is low, indicating poor resource utilization and operational inefficiency.\n",
        "\n",
        "* There's high variability in trip durations during early morning hours, which makes planning difficult and increases unpredictability in service.\n",
        "\n",
        "* The longer trips during off-peak hours do not translate to higher profitability due to minimal demand, which can hurt overall revenue."
      ],
      "metadata": {
        "id": "ey_0qi68phqO"
      }
    },
    {
      "cell_type": "markdown",
      "source": [
        "#### Chart - 9"
      ],
      "metadata": {
        "id": "YJ55k-q6phqO"
      }
    },
    {
      "cell_type": "code",
      "source": [
        "# Chart - 9 visualization code\n",
        "sns.countplot(data=df, x='bike_share_for_all_trip', hue='user_type')\n",
        "plt.title('Bike Share Usage by User Type')\n",
        "plt.show()"
      ],
      "metadata": {
        "id": "B2aS4O1ophqO"
      },
      "execution_count": null,
      "outputs": []
    },
    {
      "cell_type": "markdown",
      "source": [
        "##### 1. Why did you pick the specific chart?"
      ],
      "metadata": {
        "id": "gCFgpxoyphqP"
      }
    },
    {
      "cell_type": "markdown",
      "source": [
        "This bar chart was chosen to explore the relationship between user type (Customer vs Subscriber) and participation in the Bike Share for All program, a key initiative aimed at improving transportation equity. It allows us to clearly compare how different user groups engage with the program."
      ],
      "metadata": {
        "id": "TVxDimi2phqP"
      }
    },
    {
      "cell_type": "markdown",
      "source": [
        "##### 2. What is/are the insight(s) found from the chart?"
      ],
      "metadata": {
        "id": "OVtJsKN_phqQ"
      }
    },
    {
      "cell_type": "markdown",
      "source": [
        "* The vast majority of users, both Customers and Subscribers, are not enrolled in the Bike Share for All program.\n",
        "\n",
        "* Among those who do use the program, only Subscribers are represented — no Customers are part of it.\n",
        "\n",
        "* This suggests that Subscribers are more likely to be aware of or have access to the program than casual users."
      ],
      "metadata": {
        "id": "ngGi97qjphqQ"
      }
    },
    {
      "cell_type": "markdown",
      "source": [
        "##### 3. Will the gained insights help creating a positive business impact?\n",
        "Are there any insights that lead to negative growth? Justify with specific reason."
      ],
      "metadata": {
        "id": "lssrdh5qphqQ"
      }
    },
    {
      "cell_type": "markdown",
      "source": [
        "**The insights that can help creating a positive business impact in the following ways:**\n",
        "\n",
        "* Targeted outreach opportunity: The data shows a huge gap in program awareness or accessibility, especially among Customers. Targeting casual riders with marketing or onboarding for the Bike Share for All program could help increase ridership and build loyalty.\n",
        "\n",
        "* Improved user retention: Encouraging more Subscribers to enroll could boost retention, as participation in subsidized programs often correlates with higher usage over time.\n",
        "\n",
        "**Insights that lead to negative growth:**\n",
        "\n",
        "* Underutilization of the program: The current low usage of the Bike Share for All program implies either a lack of awareness, accessibility issues, or eligibility constraints — all of which represent missed growth opportunities."
      ],
      "metadata": {
        "id": "tBpY5ekJphqQ"
      }
    },
    {
      "cell_type": "markdown",
      "source": [
        "#### Chart - 10"
      ],
      "metadata": {
        "id": "U2RJ9gkRphqQ"
      }
    },
    {
      "cell_type": "code",
      "source": [
        "# Chart - 10 visualization code\n",
        "plt.figure(figsize=(10,5))\n",
        "sns.countplot(data=df, x='day_of_week', hue='user_type', order=['Monday','Tuesday','Wednesday','Thursday','Friday','Saturday','Sunday'])\n",
        "plt.title('User Type Usage Across Weekdays')\n",
        "plt.show()"
      ],
      "metadata": {
        "id": "GM7a4YP4phqQ"
      },
      "execution_count": null,
      "outputs": []
    },
    {
      "cell_type": "markdown",
      "source": [
        "##### 1. Why did you pick the specific chart?"
      ],
      "metadata": {
        "id": "1M8mcRywphqQ"
      }
    },
    {
      "cell_type": "markdown",
      "source": [
        "This grouped bar chart was chosen because it effectively compares the count of trips across weekdays, segmented by user type (Customer vs Subscriber).It provides a clear view of how user behavior changes depending on the day, which is critical for operations planning, marketing, and resource allocation."
      ],
      "metadata": {
        "id": "8agQvks0phqQ"
      }
    },
    {
      "cell_type": "markdown",
      "source": [
        "##### 2. What is/are the insight(s) found from the chart?"
      ],
      "metadata": {
        "id": "tgIPom80phqQ"
      }
    },
    {
      "cell_type": "markdown",
      "source": [
        "* Subscribers dominate weekday usage, especially from Tuesday to Thursday, suggesting heavy commuter activity during workdays.\n",
        "\n",
        "* Customer usage remains relatively low and consistent during the week, but increases noticeably on weekends, likely due to recreational use.\n",
        "\n",
        "* The sharp decline in Subscriber usage on weekends reinforces the idea that their trips are more work-related, while Customers ride more for leisure."
      ],
      "metadata": {
        "id": "Qp13pnNzphqQ"
      }
    },
    {
      "cell_type": "markdown",
      "source": [
        "##### 3. Will the gained insights help creating a positive business impact?\n",
        "Are there any insights that lead to negative growth? Justify with specific reason."
      ],
      "metadata": {
        "id": "JMzcOPDDphqR"
      }
    },
    {
      "cell_type": "markdown",
      "source": [
        "**The insights that can help creating a positive business impact in the following ways:**\n",
        "\n",
        "* Scheduling & fleet optimization: More bikes can be placed in high-demand areas during weekdays for Subscribers, while on weekends, availability can shift to parks, tourist areas, or waterfronts to support Customer needs.\n",
        "\n",
        "* Targeted promotions: Offer weekend discounts or events aimed at Subscribers to encourage off-work engagement. Launch weekday commuter bundles for Customers who may be converted into Subscribers.\n",
        "\n",
        "* Marketing segmentation: Different engagement strategies can be developed for each group based on when they use the service.\n",
        "\n",
        "**Insights that lead to negative growth:**\n",
        "\n",
        "* Heavy reliance on Subscribers during the week could be risky if there are disruptions in commuting trends (e.g., remote work policies). Diversifying usage with more Customer engagement can help mitigate this."
      ],
      "metadata": {
        "id": "R4Ka1PC2phqR"
      }
    },
    {
      "cell_type": "markdown",
      "source": [
        "# Multivariate Analysis"
      ],
      "metadata": {
        "id": "L-KodfPMvOtH"
      }
    },
    {
      "cell_type": "markdown",
      "source": [
        "#### Chart - 11"
      ],
      "metadata": {
        "id": "x-EpHcCOp1ci"
      }
    },
    {
      "cell_type": "code",
      "source": [
        "# Chart - 11 visualization code\n",
        "# 11. Trip Duration vs Hour vs User Type\n",
        "plt.figure(figsize=(12,6))\n",
        "sns.pointplot(data=df, x='hour', y='trip_duration_minutes', hue='user_type')\n",
        "plt.title('Avg Trip Duration by Hour for Each User Type')\n",
        "plt.show()"
      ],
      "metadata": {
        "id": "mAQTIvtqp1cj"
      },
      "execution_count": null,
      "outputs": []
    },
    {
      "cell_type": "markdown",
      "source": [
        "##### 1. Why did you pick the specific chart?"
      ],
      "metadata": {
        "id": "X_VqEhTip1ck"
      }
    },
    {
      "cell_type": "markdown",
      "source": [
        "Line Chart with Error Bars uses line plots to show the trend of average trip durations over 24 hours, split by user type (Customer and Subscriber), along with error bars to visualize variability in the data.It shows how average trip durations vary by hour across the two main user groups — Subscribers and Customers. It helps reveal behavioral patterns specific to each user type and highlights potential usage trends that could inform time-based service optimization."
      ],
      "metadata": {
        "id": "-vsMzt_np1ck"
      }
    },
    {
      "cell_type": "markdown",
      "source": [
        "##### 2. What is/are the insight(s) found from the chart?"
      ],
      "metadata": {
        "id": "8zGJKyg5p1ck"
      }
    },
    {
      "cell_type": "markdown",
      "source": [
        "* Customers consistently take longer trips than Subscribers throughout the day. Their average trip duration peaks sharply in the early morning hours (between 2 AM and 4 AM), likely due to low traffic and potentially more leisurely or recreational usage.\n",
        "\n",
        "* Subscribers show much lower and stable trip durations, usually staying below 15 minutes, suggesting more functional use cases like commuting.\n",
        "\n",
        "* There’s a clear behavioral distinction between both groups — Subscribers are time-efficient, while Customers may treat the service as a casual or tourism activity."
      ],
      "metadata": {
        "id": "ZYdMsrqVp1ck"
      }
    },
    {
      "cell_type": "markdown",
      "source": [
        "##### 3. Will the gained insights help creating a positive business impact?\n",
        "Are there any insights that lead to negative growth? Justify with specific reason."
      ],
      "metadata": {
        "id": "PVzmfK_Ep1ck"
      }
    },
    {
      "cell_type": "markdown",
      "source": [
        "**The insights that can help creating a positive business impact in the following ways:**\n",
        "\n",
        "* The stable and short-duration pattern of Subscribers highlights their reliability and utility-focused usage — encouraging the company to promote subscriptions and provide perks for commuter-friendly features.\n",
        "\n",
        "* The longer trips by Customers during off-peak hours indicate an opportunity to introduce flexible pricing or tourist packages that cater to casual riders.\n",
        "\n",
        "* These insights could help refine fleet availability and maintenance schedules to match usage intensity by hour and user type.\n",
        "\n",
        "**Insights that lead to negative growth:**\n",
        "\n",
        "* The spike in longer customer rides during early morning may lead to bike availability issues or increased maintenance due to prolonged usage, especially if not tracked and managed.\n",
        "\n",
        "* Without tailored offerings for casual riders, the company may miss revenue opportunities from this segment."
      ],
      "metadata": {
        "id": "druuKYZpp1ck"
      }
    },
    {
      "cell_type": "markdown",
      "source": [
        "#### Chart - 12"
      ],
      "metadata": {
        "id": "n3dbpmDWp1ck"
      }
    },
    {
      "cell_type": "code",
      "source": [
        "# Chart - 12 visualization code\n",
        "# 12. Gender + User Type + Count\n",
        "plt.figure(figsize=(8,5))\n",
        "sns.countplot(data=df, x='member_gender', hue='user_type')\n",
        "plt.title('User Type Distribution across Genders')\n",
        "plt.show()"
      ],
      "metadata": {
        "id": "bwevp1tKp1ck"
      },
      "execution_count": null,
      "outputs": []
    },
    {
      "cell_type": "markdown",
      "source": [
        "##### 1. Why did you pick the specific chart?"
      ],
      "metadata": {
        "id": "ylSl6qgtp1ck"
      }
    },
    {
      "cell_type": "markdown",
      "source": [
        "This grouped bar chart was chosen to visually compare the distribution of different user types (Customer vs Subscriber) across various gender categories. It's effective in highlighting disparities or trends in gender-based participation and can guide marketing or user experience decisions."
      ],
      "metadata": {
        "id": "m2xqNkiQp1ck"
      }
    },
    {
      "cell_type": "markdown",
      "source": [
        "##### 2. What is/are the insight(s) found from the chart?"
      ],
      "metadata": {
        "id": "ZWILFDl5p1ck"
      }
    },
    {
      "cell_type": "markdown",
      "source": [
        "* The majority of subscribers are male, followed by a significantly lower number of female subscribers.\n",
        "\n",
        "* Customers are more evenly distributed across the gender categories compared to subscribers, especially noticeable in the 'Unknown' and 'Other' genders.\n",
        "\n",
        "* The 'Unknown' gender has a relatively high number of Customers, suggesting that customers may be less likely to share gender info than subscribers."
      ],
      "metadata": {
        "id": "x-lUsV2mp1ck"
      }
    },
    {
      "cell_type": "markdown",
      "source": [
        "##### 3. Will the gained insights help creating a positive business impact?\n",
        "Are there any insights that lead to negative growth? Justify with specific reason."
      ],
      "metadata": {
        "id": "M7G43BXep1ck"
      }
    },
    {
      "cell_type": "markdown",
      "source": [
        "**The insights that can help creating a positive business impact in the following ways:**\n",
        "\n",
        "* Targeted campaigns can be developed to attract underrepresented groups like females or non-binary individuals to become subscribers.\n",
        "\n",
        "* Product or service improvements (e.g., safety features, route suggestions) can be tailored to make the service more appealing to these groups.\n",
        "\n",
        "* For users with “Unknown” gender, improving onboarding or optional profile fields may help gather better demographic data for more effective targeting.\n",
        "\n",
        "**Insights that lead to negative growth:**\n",
        "\n",
        "* The gender gap among subscribers indicates potential accessibility, inclusivity, or perception issues that could limit user base expansion if not addressed.\n",
        "\n",
        "* If marketing and service features remain skewed toward the dominant demographic (males), the platform risks alienating other user segments, reducing diversity and long-term growth."
      ],
      "metadata": {
        "id": "5wwDJXsLp1cl"
      }
    },
    {
      "cell_type": "markdown",
      "source": [
        "#### Chart - 13"
      ],
      "metadata": {
        "id": "Ag9LCva-p1cl"
      }
    },
    {
      "cell_type": "code",
      "source": [
        "# Chart - 13 visualization code\n",
        "# 13. Trip Duration vs Day of Week\n",
        "plt.figure(figsize=(10,5))\n",
        "pivot = df.groupby(['day_of_week', 'hour']).size().unstack()\n",
        "sns.heatmap(pivot, cmap='YlGnBu')\n",
        "plt.title('Trips by Day of Week and Hour')\n",
        "plt.show()"
      ],
      "metadata": {
        "id": "EUfxeq9-p1cl"
      },
      "execution_count": null,
      "outputs": []
    },
    {
      "cell_type": "markdown",
      "source": [
        "##### 1. Why did you pick the specific chart?"
      ],
      "metadata": {
        "id": "E6MkPsBcp1cl"
      }
    },
    {
      "cell_type": "markdown",
      "source": [
        "This is a heatmap, chosen for its ability to show patterns across two categorical dimensions (day of the week and hour of the day). It allows us to quickly spot when trip frequency is highest or lowest without clutter."
      ],
      "metadata": {
        "id": "V22bRsFWp1cl"
      }
    },
    {
      "cell_type": "markdown",
      "source": [
        "##### 2. What is/are the insight(s) found from the chart?"
      ],
      "metadata": {
        "id": "2cELzS2fp1cl"
      }
    },
    {
      "cell_type": "markdown",
      "source": [
        "* Weekday rush hours (around 8 AM and 5–6 PM) have the highest number of trips — especially Tuesday to Thursday.\n",
        "\n",
        "* Trip frequency drops significantly on weekends, with a more even spread throughout the day rather than sharp peaks.\n",
        "\n",
        "* Mondays and Fridays show a slight dip compared to mid-week, likely due to flexible work patterns."
      ],
      "metadata": {
        "id": "ozQPc2_Ip1cl"
      }
    },
    {
      "cell_type": "markdown",
      "source": [
        "##### 3. Will the gained insights help creating a positive business impact?\n",
        "Are there any insights that lead to negative growth? Justify with specific reason."
      ],
      "metadata": {
        "id": "3MPXvC8up1cl"
      }
    },
    {
      "cell_type": "markdown",
      "source": [
        "**The insights that can help creating a positive business impact in the following ways:**\n",
        "\n",
        "* Optimize fleet allocation: Bikes can be strategically distributed to key stations before morning and evening rush hours during weekdays.\n",
        "\n",
        "* Targeted promotions: Weekend usage is lower — this is a great opportunity to run discounts or campaigns to boost leisure rides on Saturdays and Sundays.\n",
        "\n",
        "* Maintenance scheduling: Conduct maintenance during low-activity hours (e.g., late night or early morning) to minimize service disruptions.\n",
        "\n",
        "**Insights that lead to negative growth:**\n",
        "\n",
        "* Failing to meet weekday rush demand could result in user frustration due to unavailability.\n",
        "\n",
        "* Not addressing under-utilized weekends could lead to wasted potential for revenue, especially from casual riders or tourists."
      ],
      "metadata": {
        "id": "GL8l1tdLp1cl"
      }
    },
    {
      "cell_type": "markdown",
      "source": [
        "#### Chart - 14 - Correlation Heatmap"
      ],
      "metadata": {
        "id": "NC_X3p0fY2L0"
      }
    },
    {
      "cell_type": "code",
      "source": [
        "# Correlation Heatmap visualization code\n",
        "plt.figure(figsize=(10, 6))\n",
        "numeric_df = df[['duration_sec', 'trip_duration_minutes', 'member_birth_year', 'hour', 'month']]\n",
        "corr = numeric_df.corr()\n",
        "sns.heatmap(corr, annot=True, cmap='coolwarm', linewidths=0.5)\n",
        "plt.title('Correlation Heatmap of Numerical Features')\n",
        "plt.show()\n"
      ],
      "metadata": {
        "id": "xyC9zolEZNRQ"
      },
      "execution_count": null,
      "outputs": []
    },
    {
      "cell_type": "markdown",
      "source": [
        "##### 1. Why did you pick the specific chart?"
      ],
      "metadata": {
        "id": "UV0SzAkaZNRQ"
      }
    },
    {
      "cell_type": "markdown",
      "source": [
        "A correlation heatmap is the best visual tool to quickly identify the strength and direction of linear relationships between numerical features in a dataset."
      ],
      "metadata": {
        "id": "DVPuT8LYZNRQ"
      }
    },
    {
      "cell_type": "markdown",
      "source": [
        "##### 2. What is/are the insight(s) found from the chart?"
      ],
      "metadata": {
        "id": "YPEH6qLeZNRQ"
      }
    },
    {
      "cell_type": "markdown",
      "source": [
        "* duration_sec and trip_duration_minutes are perfectly correlated, as expected (1.0 correlation).\n",
        "\n",
        "* There's almost no correlation between trip duration and member_birth_year, hour, or month.\n",
        "\n",
        "* hour and member_birth_year show a very slight positive correlation (~0.05), but it's too weak to infer a strong relationship.\n",
        "\n",
        "* This confirms: trip duration isn’t strongly impacted by month or age."
      ],
      "metadata": {
        "id": "bfSqtnDqZNRR"
      }
    },
    {
      "cell_type": "markdown",
      "source": [
        "#### Chart - 15 - Pair Plot"
      ],
      "metadata": {
        "id": "q29F0dvdveiT"
      }
    },
    {
      "cell_type": "code",
      "source": [
        "# Pair Plot visualization code\n",
        "sns.pairplot(df[['trip_duration_minutes', 'member_birth_year', 'hour', 'month']], diag_kind='kde')\n",
        "plt.suptitle('Pair Plot of Key Numeric Variables', y=1.02)\n",
        "plt.show()"
      ],
      "metadata": {
        "id": "o58-TEIhveiU"
      },
      "execution_count": null,
      "outputs": []
    },
    {
      "cell_type": "markdown",
      "source": [
        "##### 1. Why did you pick the specific chart?"
      ],
      "metadata": {
        "id": "EXh0U9oCveiU"
      }
    },
    {
      "cell_type": "markdown",
      "source": [
        "Pair plots show scatterplots and distributions across multiple variables in one view, revealing trends, distributions, and outliers."
      ],
      "metadata": {
        "id": "eMmPjTByveiU"
      }
    },
    {
      "cell_type": "markdown",
      "source": [
        "##### 2. What is/are the insight(s) found from the chart?"
      ],
      "metadata": {
        "id": "22aHeOlLveiV"
      }
    },
    {
      "cell_type": "markdown",
      "source": [
        "* Most variables show weak relationships, but outliers in trip_duration_minutes are evident.\n",
        "\n",
        "* You may see that older members tend to take shorter trips on average, but it's a weak trend."
      ],
      "metadata": {
        "id": "uPQ8RGwHveiV"
      }
    },
    {
      "cell_type": "markdown",
      "source": [
        "## **5. Solution to Business Objective**"
      ],
      "metadata": {
        "id": "JcMwzZxoAimU"
      }
    },
    {
      "cell_type": "markdown",
      "source": [
        "#### What do you suggest the client to achieve Business Objective ?\n",
        "Explain Briefly."
      ],
      "metadata": {
        "id": "8G2x9gOozGDZ"
      }
    },
    {
      "cell_type": "markdown",
      "source": [
        "\n",
        "\n",
        "* Focus on Subscribers: Since subscribers form the majority, create loyalty programs to retain them and offer added benefits during peak hours.\n",
        "\n",
        "* Weekend Promotions for Casual Users: Target casual riders with special weekend offers, especially in tourist-heavy areas.\n",
        "\n",
        "* Optimize Bike Availability: Deploy more bikes during commute hours (8 AM & 5 PM) and ensure proper distribution at start stations used heavily by working professionals.\n",
        "\n",
        "* Gender-Inclusive Campaigns: Develop campaigns that address the needs and safety concerns of female riders to encourage more participation.\n",
        "\n",
        "* Improve Trip Duration Experience: Provide real-time data on trip times and expected traffic to improve ride planning, especially for longer trips on weekends."
      ],
      "metadata": {
        "id": "pASKb0qOza21"
      }
    },
    {
      "cell_type": "markdown",
      "source": [
        "# **Conclusion**"
      ],
      "metadata": {
        "id": "gCX9965dhzqZ"
      }
    },
    {
      "cell_type": "markdown",
      "source": [
        "This analysis revealed meaningful trends in trip durations, user types, demographics, and time-based behaviors. Ford GoBike can utilize these insights to boost ridership, better allocate resources, and personalize marketing. With strategic implementation—especially targeting commute hours and weekend behavior—the business can grow sustainably and serve a wider range of users more effectively. Continuous monitoring and seasonal expansion of the dataset will allow for even deeper insights in future analyses.\n",
        "\n"
      ],
      "metadata": {
        "id": "Fjb1IsQkh3yE"
      }
    },
    {
      "cell_type": "markdown",
      "source": [
        "### ***Hurrah! You have successfully completed your EDA Capstone Project !!!***"
      ],
      "metadata": {
        "id": "gIfDvo9L0UH2"
      }
    }
  ]
}