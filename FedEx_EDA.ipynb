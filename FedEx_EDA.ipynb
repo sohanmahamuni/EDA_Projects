{
  "nbformat": 4,
  "nbformat_minor": 0,
  "metadata": {
    "colab": {
      "private_outputs": true,
      "provenance": [],
      "collapsed_sections": [
        "w6K7xa23Elo4",
        "mDgbUHAGgjLW"
      ],
      "cell_execution_strategy": "setup",
      "include_colab_link": true
    },
    "kernelspec": {
      "name": "python3",
      "display_name": "Python 3"
    },
    "language_info": {
      "name": "python"
    }
  },
  "cells": [
    {
      "cell_type": "markdown",
      "metadata": {
        "id": "view-in-github",
        "colab_type": "text"
      },
      "source": [
        "<a href=\"https://colab.research.google.com/github/sohanmahamuni/EDA_Projects/blob/main/FedEx_EDA.ipynb\" target=\"_parent\"><img src=\"https://colab.research.google.com/assets/colab-badge.svg\" alt=\"Open In Colab\"/></a>"
      ]
    },
    {
      "cell_type": "markdown",
      "source": [
        "# **Project Name**    - FedEx EDA Project\n",
        "\n"
      ],
      "metadata": {
        "id": "vncDsAP0Gaoa"
      }
    },
    {
      "cell_type": "markdown",
      "source": [
        "##### **Project Type**    - EDA"
      ],
      "metadata": {
        "id": "beRrZCGUAJYm"
      }
    },
    {
      "cell_type": "markdown",
      "source": [
        "# **Project Summary -**"
      ],
      "metadata": {
        "id": "FJNUwmbgGyua"
      }
    },
    {
      "cell_type": "markdown",
      "source": [
        "The SCMS Delivery History Dataset (FedEx) is a comprehensive dataset containing details about delivery operations, including delivery times, package characteristics, and statuses. This project leverages Exploratory Data Analysis (EDA) to uncover patterns and trends in the dataset, with the ultimate goal of improving logistics performance, reducing delays, and identifying areas for optimization within FedEx's delivery system. By applying Univariate, Bivariate, and Multivariate analysis, the project aims to deliver actionable insights that will help businesses streamline their operations and enhance customer satisfaction.\n",
        "\n",
        "The analysis begins with data cleaning and preprocessing, addressing missing values, outliers, and ensuring data consistency across variables. With over 20 visualizations, we explore different aspects of delivery performance such as the relationship between package weight, delivery status, and delivery time. Key performance metrics are analyzed, such as delivery delays, package characteristics, and performance by delivery zones. The goal is to identify trends, correlations, and bottlenecks that may be influencing delivery performance, which can then be optimized for greater efficiency.\n",
        "\n",
        "Insights derived from the project will assist businesses in making data-driven decisions for optimizing delivery routes, reducing costs, and improving service quality. By understanding the factors influencing delivery times and performance, organizations can better allocate resources, improve scheduling, and provide a smoother experience for customers."
      ],
      "metadata": {
        "id": "F6v_1wHtG2nS"
      }
    },
    {
      "cell_type": "markdown",
      "source": [
        "# **GitHub Link -**"
      ],
      "metadata": {
        "id": "w6K7xa23Elo4"
      }
    },
    {
      "cell_type": "markdown",
      "source": [
        "https://github.com/sohanmahamuni"
      ],
      "metadata": {
        "id": "h1o69JH3Eqqn"
      }
    },
    {
      "cell_type": "markdown",
      "source": [
        "# **Problem Statement**\n"
      ],
      "metadata": {
        "id": "yQaldy8SH6Dl"
      }
    },
    {
      "cell_type": "markdown",
      "source": [
        "Efficient delivery management is a critical part of logistics companies like FedEx. Delays in deliveries, incorrect handling, and resource mismanagement can affect customer satisfaction and operational costs. The challenge lies in identifying the underlying factors contributing to delivery inefficiencies and developing strategies to optimize delivery processes. In this project, we aim to analyze the SCMS Delivery History dataset to uncover patterns, correlations, and bottlenecks that impact delivery performance, and suggest improvements that can lead to a more effective and efficient system."
      ],
      "metadata": {
        "id": "DpeJGUA3kjGy"
      }
    },
    {
      "cell_type": "markdown",
      "source": [
        "#### **Define Your Business Objective?**"
      ],
      "metadata": {
        "id": "PH-0ReGfmX4f"
      }
    },
    {
      "cell_type": "markdown",
      "source": [
        "The business objective of this project is to help FedEx improve its delivery efficiency by identifying key factors that contribute to delays and inefficiencies. The goal is to generate insights that will allow the company to optimize its delivery operations, minimize delivery times, and enhance customer satisfaction. Through this analysis, we aim to provide a data-driven approach to improve resource allocation, delivery scheduling, and overall performance across different delivery zones."
      ],
      "metadata": {
        "id": "PhDvGCAqmjP1"
      }
    },
    {
      "cell_type": "markdown",
      "source": [
        "# **General Guidelines** : -  "
      ],
      "metadata": {
        "id": "mDgbUHAGgjLW"
      }
    },
    {
      "cell_type": "markdown",
      "source": [
        "1.   Well-structured, formatted, and commented code is required.\n",
        "2.   Exception Handling, Production Grade Code & Deployment Ready Code will be a plus. Those students will be awarded some additional credits.\n",
        "     \n",
        "     The additional credits will have advantages over other students during Star Student selection.\n",
        "       \n",
        "             [ Note: - Deployment Ready Code is defined as, the whole .ipynb notebook should be executable in one go\n",
        "                       without a single error logged. ]\n",
        "\n",
        "3.   Each and every logic should have proper comments.\n",
        "4. You may add as many number of charts you want. Make Sure for each and every chart the following format should be answered.\n",
        "        \n",
        "\n",
        "```\n",
        "# Chart visualization code\n",
        "```\n",
        "            \n",
        "\n",
        "*   Why did you pick the specific chart?\n",
        "*   What is/are the insight(s) found from the chart?\n",
        "* Will the gained insights help creating a positive business impact?\n",
        "Are there any insights that lead to negative growth? Justify with specific reason.\n",
        "\n",
        "5. You have to create at least 20 logical & meaningful charts having important insights.\n",
        "\n",
        "\n",
        "[ Hints : - Do the Vizualization in  a structured way while following \"UBM\" Rule.\n",
        "\n",
        "U - Univariate Analysis,\n",
        "\n",
        "B - Bivariate Analysis (Numerical - Categorical, Numerical - Numerical, Categorical - Categorical)\n",
        "\n",
        "M - Multivariate Analysis\n",
        " ]\n",
        "\n",
        "\n",
        "\n"
      ],
      "metadata": {
        "id": "ZrxVaUj-hHfC"
      }
    },
    {
      "cell_type": "markdown",
      "source": [
        "# ***Let's Begin !***"
      ],
      "metadata": {
        "id": "O_i_v8NEhb9l"
      }
    },
    {
      "cell_type": "markdown",
      "source": [
        "## ***1. Know Your Data***"
      ],
      "metadata": {
        "id": "HhfV-JJviCcP"
      }
    },
    {
      "cell_type": "markdown",
      "source": [
        "### Import Libraries"
      ],
      "metadata": {
        "id": "Y3lxredqlCYt"
      }
    },
    {
      "cell_type": "code",
      "source": [
        "# Import Libraries\n",
        "import pandas as pd\n",
        "import numpy as np\n",
        "import matplotlib.pyplot as plt\n",
        "import seaborn as sns\n",
        "import missingno as msno\n",
        "import warnings\n",
        "warnings.filterwarnings('ignore')"
      ],
      "metadata": {
        "id": "M8Vqi-pPk-HR"
      },
      "execution_count": null,
      "outputs": []
    },
    {
      "cell_type": "markdown",
      "source": [
        "### Dataset Loading"
      ],
      "metadata": {
        "id": "3RnN4peoiCZX"
      }
    },
    {
      "cell_type": "code",
      "source": [
        "# Load Dataset\n",
        "df = pd.read_csv('SCMS_Delivery_History_Dataset.csv')"
      ],
      "metadata": {
        "id": "4CkvbW_SlZ_R"
      },
      "execution_count": null,
      "outputs": []
    },
    {
      "cell_type": "markdown",
      "source": [
        "### Dataset First View"
      ],
      "metadata": {
        "id": "x71ZqKXriCWQ"
      }
    },
    {
      "cell_type": "code",
      "source": [
        "# Dataset First Look\n",
        "df.head()"
      ],
      "metadata": {
        "id": "LWNFOSvLl09H"
      },
      "execution_count": null,
      "outputs": []
    },
    {
      "cell_type": "markdown",
      "source": [
        "### Dataset Rows & Columns count"
      ],
      "metadata": {
        "id": "7hBIi_osiCS2"
      }
    },
    {
      "cell_type": "code",
      "source": [
        "# Dataset Rows & Columns count\n",
        "df.shape"
      ],
      "metadata": {
        "id": "Kllu7SJgmLij"
      },
      "execution_count": null,
      "outputs": []
    },
    {
      "cell_type": "markdown",
      "source": [
        "### Dataset Information"
      ],
      "metadata": {
        "id": "JlHwYmJAmNHm"
      }
    },
    {
      "cell_type": "code",
      "source": [
        "# Dataset Info\n",
        "df.info()"
      ],
      "metadata": {
        "id": "e9hRXRi6meOf"
      },
      "execution_count": null,
      "outputs": []
    },
    {
      "cell_type": "markdown",
      "source": [
        "#### Duplicate Values"
      ],
      "metadata": {
        "id": "35m5QtbWiB9F"
      }
    },
    {
      "cell_type": "code",
      "source": [
        "# Dataset Duplicate Value Count\n",
        "df.duplicated().sum()"
      ],
      "metadata": {
        "id": "1sLdpKYkmox0"
      },
      "execution_count": null,
      "outputs": []
    },
    {
      "cell_type": "markdown",
      "source": [
        "#### Missing Values/Null Values"
      ],
      "metadata": {
        "id": "PoPl-ycgm1ru"
      }
    },
    {
      "cell_type": "code",
      "source": [
        "# Missing Values/Null Values Count\n",
        "missing_values = df.isnull().sum().sort_values(ascending=False)\n",
        "missing_values[missing_values > 0]\n"
      ],
      "metadata": {
        "id": "fbh5y1afs9-6"
      },
      "execution_count": null,
      "outputs": []
    },
    {
      "cell_type": "code",
      "source": [
        "# Visualizing the missing values\n",
        "msno.matrix(df)\n",
        "plt.title(\"Missing Values Matrix\")\n",
        "plt.show()"
      ],
      "metadata": {
        "id": "dn4Pftb3tbVn"
      },
      "execution_count": null,
      "outputs": []
    },
    {
      "cell_type": "markdown",
      "source": [
        "### What did you know about your dataset?"
      ],
      "metadata": {
        "id": "H0kj-8xxnORC"
      }
    },
    {
      "cell_type": "markdown",
      "source": [
        "The dataset contains over 10,000 records and 33 features. It includes information about shipment modes, vendors, delivery schedules, item weights, costs, and more. Some columns like Weight (Kilograms) and Freight Cost (USD) have missing values and need cleaning. There are no significant duplicate records."
      ],
      "metadata": {
        "id": "gfoNAAC-nUe_"
      }
    },
    {
      "cell_type": "markdown",
      "source": [
        "## ***2. Understanding Your Variables***"
      ],
      "metadata": {
        "id": "nA9Y7ga8ng1Z"
      }
    },
    {
      "cell_type": "code",
      "source": [
        "# Dataset Columns\n",
        "df.columns"
      ],
      "metadata": {
        "id": "j7xfkqrt5Ag5"
      },
      "execution_count": null,
      "outputs": []
    },
    {
      "cell_type": "code",
      "source": [
        "# Dataset Columns\n",
        "df.columns.tolist()"
      ],
      "metadata": {
        "id": "_Nncia-RttDX"
      },
      "execution_count": null,
      "outputs": []
    },
    {
      "cell_type": "code",
      "source": [
        "# Dataset Describe\n",
        "df.describe()"
      ],
      "metadata": {
        "id": "DnOaZdaE5Q5t"
      },
      "execution_count": null,
      "outputs": []
    },
    {
      "cell_type": "markdown",
      "source": [
        "### Variables Description"
      ],
      "metadata": {
        "id": "PBTbrJXOngz2"
      }
    },
    {
      "cell_type": "markdown",
      "source": [
        "\n",
        "\n",
        "  **Column Name | Description**\n",
        "\n",
        "1. ID | Unique identifier for each delivery record\n",
        "2. Project Code | Code associated with a specific logistics project\n",
        "3. Project Object Code | Object code representing the type of item\n",
        "4. Planned Delivery Date | Initially planned delivery date\n",
        "5. Scheduled Delivery Date | The scheduled delivery date after planning\n",
        "6. Delivered to Client Date | The date on which goods were actually delivered\n",
        "7. Delivery Recorded Date | Date when delivery was recorded in the system\n",
        "8. Delivery Status | Delivery status (On time / Late / In progress etc.)\n",
        "9. Country | Country where goods are to be delivered\n",
        "10. Beneficiary | End recipient of the goods\n",
        "11. Final Delivery Point | Exact delivery address/location\n",
        "12. Product Group | Group/category of product (e.g., Medical, Electrical)\n",
        "13. Product Category | Specific category under product group\n",
        "14. Item Description | Short description of the product\n",
        "15. Brand | Brand name of the product\n",
        "16. Dosage | Dosage information (for medical items)\n",
        "17. Dosage Form | Form of medicine (tablet, capsule, etc.)\n",
        "18. Units per Pack | Number of units per pack\n",
        "19. Quantity (Pack) | Number of packs ordered\n",
        "20. Unit of Measure (Per Pack) | Unit of measurement per pack (e.g.,\n",
        "Tablet, Bottle)\n",
        "21. Line Item Quantity | Total number of units = Units per Pack × Quantity (Pack)\n",
        "22. Weight (Kilograms) | Weight of the shipment in kilograms\n",
        "23. Freight Cost (USD) | Shipping cost in US dollars\n",
        "24. Line Item Insurance (USD) | Insurance cost of the item\n",
        "25. Line Item Value | Total value of the line item\n",
        "26. Shipment Mode | Mode of shipment used (Air, Ocean, Truck, etc.)\n",
        "27. Manufacturing Site | Site/factory where the product was manufactured\n",
        "28. Vendor INCO Term | Vendor’s INCOTERM (logistics contractual term)\n",
        "29. Purchasing Document | Reference document for purchasing\n",
        "30. PO / SO | Purchase Order / Sales Order ID\n",
        "31. Vendor | Supplier/vendor responsible for fulfilling the order\n",
        "32. Shipment ID | Unique ID for each shipment\n",
        "33. Material Number | Material code identifier\n"
      ],
      "metadata": {
        "id": "aJV4KIxSnxay"
      }
    },
    {
      "cell_type": "markdown",
      "source": [
        "### Check Unique Values for each variable."
      ],
      "metadata": {
        "id": "u3PMJOP6ngxN"
      }
    },
    {
      "cell_type": "code",
      "source": [
        "# Check Unique Values for each variable\n",
        "unique_vals = df.nunique().sort_values(ascending=False)\n",
        "unique_vals"
      ],
      "metadata": {
        "id": "uVwRtRqSu3It"
      },
      "execution_count": null,
      "outputs": []
    },
    {
      "cell_type": "markdown",
      "source": [
        "## 3. ***Data Wrangling***"
      ],
      "metadata": {
        "id": "dauF4eBmngu3"
      }
    },
    {
      "cell_type": "markdown",
      "source": [
        "### Data Wrangling Code"
      ],
      "metadata": {
        "id": "bKJF3rekwFvQ"
      }
    },
    {
      "cell_type": "code",
      "source": [
        "date_cols = [\n",
        "    'Scheduled Delivery Date',\n",
        "    'Delivered to Client Date',\n",
        "    'Delivery Recorded Date'\n",
        "]\n",
        "\n",
        "for col in date_cols:\n",
        "    df[col] = pd.to_datetime(df[col], errors='coerce')"
      ],
      "metadata": {
        "id": "wk-9a2fpoLcV"
      },
      "execution_count": null,
      "outputs": []
    },
    {
      "cell_type": "code",
      "source": [
        "# Optional: Rename column names for convenience (remove spaces, make lowercase)\n",
        "df.columns = df.columns.str.strip().str.replace(' ', '_').str.lower()"
      ],
      "metadata": {
        "id": "qj217PgnLOAT"
      },
      "execution_count": null,
      "outputs": []
    },
    {
      "cell_type": "code",
      "source": [
        "# Count of nulls again after datetime conversion\n",
        "df.isnull().sum().sort_values(ascending=False).head(10)"
      ],
      "metadata": {
        "id": "EUE5Sa6KLRZ0"
      },
      "execution_count": null,
      "outputs": []
    },
    {
      "cell_type": "code",
      "source": [
        "# Drop rows with missing crucial data for analysis\n",
        "df_clean = df.dropna(subset=['weight_(kilograms)', 'freight_cost_(usd)', 'line_item_value'])"
      ],
      "metadata": {
        "id": "CBY9Prb7LYuB"
      },
      "execution_count": null,
      "outputs": []
    },
    {
      "cell_type": "code",
      "source": [
        "# New column: Delivery Delay in days\n",
        "df_clean['delivery_delay'] = (df_clean['delivered_to_client_date'] - df_clean['scheduled_delivery_date']).dt.days"
      ],
      "metadata": {
        "id": "KORuTZi3Ld6y"
      },
      "execution_count": null,
      "outputs": []
    },
    {
      "cell_type": "code",
      "source": [
        "# Check data types\n",
        "df_clean[['freight_cost_(usd)', 'weight_(kilograms)', 'line_item_value']].dtypes"
      ],
      "metadata": {
        "id": "Yf800g-ZL7j3"
      },
      "execution_count": null,
      "outputs": []
    },
    {
      "cell_type": "code",
      "source": [
        "# Remove commas or symbols and convert to float (if the values are strings)\n",
        "df_clean['freight_cost_(usd)'] = pd.to_numeric(df_clean['freight_cost_(usd)'], errors='coerce')\n",
        "df_clean['weight_(kilograms)'] = pd.to_numeric(df_clean['weight_(kilograms)'], errors='coerce')\n",
        "df_clean['line_item_value'] = pd.to_numeric(df_clean['line_item_value'], errors='coerce')"
      ],
      "metadata": {
        "id": "YUFVl8IAMNkn"
      },
      "execution_count": null,
      "outputs": []
    },
    {
      "cell_type": "code",
      "source": [
        "# Drop rows with NaN values in these columns\n",
        "df.dropna(subset=['weight_(kilograms)', 'freight_cost_(usd)'], inplace=True)"
      ],
      "metadata": {
        "id": "Pu4fg_G1nTYm"
      },
      "execution_count": null,
      "outputs": []
    },
    {
      "cell_type": "markdown",
      "source": [
        "### What all manipulations have you done and insights you found?"
      ],
      "metadata": {
        "id": "MSa1f5Uengrz"
      }
    },
    {
      "cell_type": "markdown",
      "source": [
        "Converted date columns to datetime format.\n",
        "\n",
        "Cleaned column names.\n",
        "\n",
        "Dropped rows with missing critical data like weight and freight cost.\n",
        "\n",
        "Engineered a new column for delivery delay (in days).\n",
        "\n",
        "Ensured numerical columns are in proper format."
      ],
      "metadata": {
        "id": "LbyXE7I1olp8"
      }
    },
    {
      "cell_type": "markdown",
      "source": [
        "## ***4. Data Vizualization, Storytelling & Experimenting with charts : Understand the relationships between variables***"
      ],
      "metadata": {
        "id": "GF8Ens_Soomf"
      }
    },
    {
      "cell_type": "markdown",
      "source": [
        "# Univariate Analysis"
      ],
      "metadata": {
        "id": "3yfMM6KhYNgF"
      }
    },
    {
      "cell_type": "markdown",
      "source": [
        "#### Chart - 1"
      ],
      "metadata": {
        "id": "0wOQAZs5pc--"
      }
    },
    {
      "cell_type": "code",
      "source": [
        "# Chart 1 - Shipment Mode Count\n",
        "plt.figure(figsize=(8,5))\n",
        "sns.countplot(data=df_clean, x='shipment_mode', palette='viridis')\n",
        "plt.title('Distribution of Shipment Modes')\n",
        "plt.xlabel('Shipment Mode')\n",
        "plt.ylabel('Count')\n",
        "plt.xticks(rotation=45)\n",
        "plt.tight_layout()\n",
        "plt.show()"
      ],
      "metadata": {
        "id": "7v_ESjsspbW7"
      },
      "execution_count": null,
      "outputs": []
    },
    {
      "cell_type": "markdown",
      "source": [
        "##### 1. Why did you pick the specific chart?"
      ],
      "metadata": {
        "id": "K5QZ13OEpz2H"
      }
    },
    {
      "cell_type": "markdown",
      "source": [
        "Bar plots are ideal for categorical univariate data to compare frequencies across different shipment modes."
      ],
      "metadata": {
        "id": "XESiWehPqBRc"
      }
    },
    {
      "cell_type": "markdown",
      "source": [
        "##### 2. What is/are the insight(s) found from the chart?"
      ],
      "metadata": {
        "id": "lQ7QKXXCp7Bj"
      }
    },
    {
      "cell_type": "markdown",
      "source": [
        "* Air is the dominant shipment mode, followed by Truck, Air Charter, and Ocean.\n",
        "\n",
        "* There is a strong preference for air-based transport (Air + Air Charter), which suggests a need for speed in delivery."
      ],
      "metadata": {
        "id": "C_j1G7yiqdRP"
      }
    },
    {
      "cell_type": "markdown",
      "source": [
        "##### 3. Will the gained insights help creating a positive business impact?\n",
        "Are there any insights that lead to negative growth? Justify with specific reason."
      ],
      "metadata": {
        "id": "448CDAPjqfQr"
      }
    },
    {
      "cell_type": "markdown",
      "source": [
        "**The insights that can help creating a positive business impact in the following ways:**\n",
        "\n",
        "* Logistics teams can evaluate if the high use of Air is justified in terms of cost vs. delivery speed.\n",
        "\n",
        "* If Air shipments are being used even when urgency is not high, the company may reduce costs by shifting some deliveries to Ocean or Truck modes.\n",
        "\n",
        "**Insights that lead to negative growth:**\n",
        "\n",
        "* Over-dependence on Air shipment may lead to higher logistics costs, which could eat into the company's profit margins if not optimized.\n",
        "\n",
        "* This also exposes the business to risks if air transport capacity becomes limited or prices surge due to geopolitical or fuel-related reasons."
      ],
      "metadata": {
        "id": "3cspy4FjqxJW"
      }
    },
    {
      "cell_type": "markdown",
      "source": [
        "#### Chart - 2"
      ],
      "metadata": {
        "id": "KSlN3yHqYklG"
      }
    },
    {
      "cell_type": "code",
      "source": [
        "# Chart 2 - Top 10 Countries by Delivery Count\n",
        "plt.figure(figsize=(10,5))\n",
        "top_countries = df_clean['country'].value_counts().nlargest(10)\n",
        "sns.barplot(x=top_countries.index, y=top_countries.values, palette='coolwarm')\n",
        "plt.title('Top 10 Countries by Number of Deliveries')\n",
        "plt.xlabel('Country')\n",
        "plt.ylabel('Number of Deliveries')\n",
        "plt.xticks(rotation=45)\n",
        "plt.tight_layout()\n",
        "plt.show()"
      ],
      "metadata": {
        "id": "R4YgtaqtYklH"
      },
      "execution_count": null,
      "outputs": []
    },
    {
      "cell_type": "markdown",
      "source": [
        "##### 1. Why did you pick the specific chart?"
      ],
      "metadata": {
        "id": "t6dVpIINYklI"
      }
    },
    {
      "cell_type": "markdown",
      "source": [
        "A bar chart is suitable for comparing the frequency of deliveries across different countries. It helps highlight which countries are the top delivery destinations, offering a clear understanding of demand concentration geographically."
      ],
      "metadata": {
        "id": "5aaW0BYyYklI"
      }
    },
    {
      "cell_type": "markdown",
      "source": [
        "##### 2. What is/are the insight(s) found from the chart?"
      ],
      "metadata": {
        "id": "ijmpgYnKYklI"
      }
    },
    {
      "cell_type": "markdown",
      "source": [
        "* South Africa leads in the number of deliveries, followed by Nigeria and Côte d'Ivoire.\n",
        "\n",
        "* These top 3 countries have significantly higher delivery volumes compared to others in the top 10 list.\n",
        "\n",
        "* The rest show a gradual decline, with Tanzania and Zimbabwe at the lower end."
      ],
      "metadata": {
        "id": "PSx9atu2YklI"
      }
    },
    {
      "cell_type": "markdown",
      "source": [
        "##### 3. Will the gained insights help creating a positive business impact?\n",
        "Are there any insights that lead to negative growth? Justify with specific reason."
      ],
      "metadata": {
        "id": "-JiQyfWJYklI"
      }
    },
    {
      "cell_type": "markdown",
      "source": [
        "**The insights that can help creating a positive business impact in the following ways:**\n",
        "\n",
        "* Identifying high-demand countries like South Africa and Nigeria allows for better resource allocation (e.g., warehouse capacity, staff, transportation).\n",
        "\n",
        "* It can help in forecasting demand, ensuring that inventory levels match regional delivery needs.\n",
        "\n",
        "* Businesses can consider investing in regional logistics hubs in top-performing countries to reduce delivery time and cost.\n",
        "\n",
        "**Insights that lead to negative growth:**\n",
        "\n",
        "* If over-reliance on a few countries like South Africa occurs, the business becomes vulnerable to regional instability or policy changes in those areas.\n",
        "\n",
        "* Countries with fewer deliveries (like Tanzania and Zimbabwe) may be underperforming markets, indicating potential logistical issues or lack of demand, both of which require investigation."
      ],
      "metadata": {
        "id": "BcBbebzrYklV"
      }
    },
    {
      "cell_type": "markdown",
      "source": [
        "#### Chart - 3"
      ],
      "metadata": {
        "id": "EM7whBJCYoAo"
      }
    },
    {
      "cell_type": "code",
      "source": [
        "# Chart - Freight Cost Distribution\n",
        "plt.figure(figsize=(8,5))\n",
        "sns.histplot(df_clean['freight_cost_(usd)'], bins=50, kde=True, color='teal')\n",
        "plt.title('Distribution of Freight Cost (USD)')\n",
        "plt.xlabel('Freight Cost (USD)')\n",
        "plt.ylabel('Frequency')\n",
        "plt.tight_layout()\n",
        "plt.show()"
      ],
      "metadata": {
        "id": "t6GMdE67YoAp"
      },
      "execution_count": null,
      "outputs": []
    },
    {
      "cell_type": "markdown",
      "source": [
        "##### 1. Why did you pick the specific chart?"
      ],
      "metadata": {
        "id": "fge-S5ZAYoAp"
      }
    },
    {
      "cell_type": "markdown",
      "source": [
        "A histogram with a KDE (Kernel Density Estimate) curve is ideal for showing how freight costs are distributed. It highlights the skewness of the data, helps detect outliers, and identifies the most common cost ranges in logistics operations."
      ],
      "metadata": {
        "id": "5dBItgRVYoAp"
      }
    },
    {
      "cell_type": "markdown",
      "source": [
        "##### 2. What is/are the insight(s) found from the chart?"
      ],
      "metadata": {
        "id": "85gYPyotYoAp"
      }
    },
    {
      "cell_type": "markdown",
      "source": [
        "* The distribution is right-skewed, meaning most freight costs are on the lower end, with a few extreme high-cost outliers.\n",
        "\n",
        "* The majority of deliveries have freight costs below $10,000, with a significant peak around $0–$5,000.\n",
        "\n",
        "* There are very few deliveries with exceptionally high freight costs (above $50,000), which are outliers."
      ],
      "metadata": {
        "id": "4jstXR6OYoAp"
      }
    },
    {
      "cell_type": "markdown",
      "source": [
        "##### 3. Will the gained insights help creating a positive business impact?\n",
        "Are there any insights that lead to negative growth? Justify with specific reason."
      ],
      "metadata": {
        "id": "RoGjAbkUYoAp"
      }
    },
    {
      "cell_type": "markdown",
      "source": [
        "**The insights that can help creating a positive business impact in the following ways:**\n",
        "\n",
        "* By understanding the common cost ranges, businesses can optimize budget allocation, negotiate better shipping rates, or choose more cost-effective routes.\n",
        "\n",
        "* Identifying outliers can help investigate unusual costs, which may be due to inefficient logistics, errors, or fraud—this can help reduce unnecessary expenses.\n",
        "\n",
        "* Helps forecast and set freight cost benchmarks for future deliveries.\n",
        "\n",
        "**Insights that lead to negative growth:**\n",
        "\n",
        "* The presence of extreme high-cost outliers could signal inefficient routing, emergency shipments, or poor planning, which may be draining resources.\n",
        "\n",
        "* If these high costs are not managed or reduced, they can erode profit margins, especially if they occur frequently or in high-priority deliveries."
      ],
      "metadata": {
        "id": "zfJ8IqMcYoAp"
      }
    },
    {
      "cell_type": "markdown",
      "source": [
        "#### Chart - 4"
      ],
      "metadata": {
        "id": "4Of9eVA-YrdM"
      }
    },
    {
      "cell_type": "code",
      "source": [
        "# Chart - Line Item Value Distribution\n",
        "plt.figure(figsize=(10, 6))\n",
        "sns.histplot(df['line_item_value'], bins=50, kde=True, color='darkorange')\n",
        "plt.title('Distribution of Line Item Value (USD)', fontsize=14)\n",
        "plt.xlabel('Line Item Value (USD)', fontsize=12)\n",
        "plt.ylabel('Frequency', fontsize=12)\n",
        "plt.tight_layout()\n",
        "plt.show()"
      ],
      "metadata": {
        "id": "irlUoxc8YrdO"
      },
      "execution_count": null,
      "outputs": []
    },
    {
      "cell_type": "markdown",
      "source": [
        "##### 1. Why did you pick the specific chart?"
      ],
      "metadata": {
        "id": "iky9q4vBYrdO"
      }
    },
    {
      "cell_type": "markdown",
      "source": [
        " A histogram with a distribution line helps reveal how shipment values are spread, detect outliers, and evaluate the overall pricing structure."
      ],
      "metadata": {
        "id": "aJRCwT6DYrdO"
      }
    },
    {
      "cell_type": "markdown",
      "source": [
        "##### 2. What is/are the insight(s) found from the chart?"
      ],
      "metadata": {
        "id": "F6T5p64dYrdO"
      }
    },
    {
      "cell_type": "markdown",
      "source": [
        "* Highly right-skewed distribution: Most of the line item values are concentrated on the lower end of the scale (close to $0), while fewer items have very high values.\n",
        "\n",
        "* High Frequency of Low-Value Shipments: Most shipments appear to be in the lower price range, possibly standard or domestic shipments.\n",
        "\n",
        "* Majority of the transactions fall within the lower range (probably below $100,000), as shown by the tall bars on the left."
      ],
      "metadata": {
        "id": "Xx8WAJvtYrdO"
      }
    },
    {
      "cell_type": "markdown",
      "source": [
        "##### 3. Will the gained insights help creating a positive business impact?\n",
        "Are there any insights that lead to negative growth? Justify with specific reason."
      ],
      "metadata": {
        "id": "y-Ehk30pYrdP"
      }
    },
    {
      "cell_type": "markdown",
      "source": [
        "**The insights that can help creating a positive business impact in the following ways:**\n",
        "\n",
        "* Operational Focus: FedEx can optimize its operations to better handle high-volume, low-value shipments efficiently.\n",
        "\n",
        "* Targeted Offerings: The data can inform decisions around pricing strategies or service bundles for frequent low-cost users.\n",
        "\n",
        "* Risk Mitigation: Knowing that high-value items are rare but impactful allows for better fraud detection and exception handling protocols.\n",
        "\n",
        "**Insights that lead to negative growth:**\n",
        "\n",
        "* Revenue Disproportion: If a large portion of revenue depends on a few high-value shipments, this creates dependency risk.\n",
        "\n",
        "* Cost-Heavy Low-Value Shipments: If the cost to process many low-value shipments exceeds the margin, it may require reevaluation of pricing models."
      ],
      "metadata": {
        "id": "jLNxxz7MYrdP"
      }
    },
    {
      "cell_type": "markdown",
      "source": [
        "# Bivariate Analysis"
      ],
      "metadata": {
        "id": "xmruahH1YHpY"
      }
    },
    {
      "cell_type": "markdown",
      "source": [
        "#### Chart - 5"
      ],
      "metadata": {
        "id": "bamQiAODYuh1"
      }
    },
    {
      "cell_type": "code",
      "source": [
        "# Chart - 5 visualization code\n",
        "import matplotlib.ticker as ticker\n",
        "from matplotlib import style\n",
        "\n",
        "# Convert 'weight_(kilograms)' and 'freight_cost_(usd)' to numeric, handling errors\n",
        "df['weight_(kilograms)'] = pd.to_numeric(df['weight_(kilograms)'], errors='coerce')\n",
        "df['freight_cost_(usd)'] = pd.to_numeric(df['freight_cost_(usd)'], errors='coerce')\n",
        "\n",
        "# Drop rows with NaN values after conversion to avoid issues in plotting\n",
        "df = df.dropna(subset=['weight_(kilograms)', 'freight_cost_(usd)'])\n",
        "\n",
        "plt.figure(figsize=(10, 6))\n",
        "sns.set(style=\"whitegrid\")\n",
        "sns.scatterplot(data=df, x='weight_(kilograms)', y='freight_cost_(usd)', alpha=0.5, color='purple',edgecolor=None)\n",
        "\n",
        "# Add regression line\n",
        "sns.regplot(\n",
        "    data=df,\n",
        "    x='weight_(kilograms)',\n",
        "    y='freight_cost_(usd)',\n",
        "    scatter=False,\n",
        "    color='black',\n",
        "    line_kws={'linewidth': 1.5}\n",
        ")\n",
        "\n",
        "# Format axes\n",
        "plt.gca().xaxis.set_major_locator(ticker.MaxNLocator(nbins=10))\n",
        "plt.gca().yaxis.set_major_locator(ticker.MaxNLocator(nbins=10))\n",
        "plt.xticks(rotation=45)\n",
        "plt.xlabel('Weight (Kilograms)', fontsize=12)\n",
        "plt.ylabel('Freight Cost (USD)', fontsize=12)\n",
        "plt.title('Freight Cost vs Weight of Shipment', fontsize=14)\n",
        "plt.tight_layout()\n",
        "plt.show()"
      ],
      "metadata": {
        "id": "TIJwrbroYuh3"
      },
      "execution_count": null,
      "outputs": []
    },
    {
      "cell_type": "markdown",
      "source": [
        "##### 1. Why did you pick the specific chart?"
      ],
      "metadata": {
        "id": "QHF8YVU7Yuh3"
      }
    },
    {
      "cell_type": "markdown",
      "source": [
        "scatter plot with a regression line was chosen to visualize the relationship between the shipment weight and the corresponding freight cost. It helps determine whether heavier shipments incur higher freight costs, which is essential for understanding cost drivers in logistics."
      ],
      "metadata": {
        "id": "dcxuIMRPYuh3"
      }
    },
    {
      "cell_type": "markdown",
      "source": [
        "##### 2. What is/are the insight(s) found from the chart?"
      ],
      "metadata": {
        "id": "GwzvFGzlYuh3"
      }
    },
    {
      "cell_type": "markdown",
      "source": [
        "* There is a positive linear trend between the shipment weight and freight cost — as the weight increases, the freight cost also tends to increase.\n",
        "\n",
        "* However, the correlation is not very strong; a significant number of low-weight shipments still have high freight costs, and vice versa.\n",
        "\n",
        "* There are a few outliers (very high weights with relatively low cost or extremely high cost) that may need further investigation."
      ],
      "metadata": {
        "id": "uyqkiB8YYuh3"
      }
    },
    {
      "cell_type": "markdown",
      "source": [
        "##### 3. Will the gained insights help creating a positive business impact?\n",
        "Are there any insights that lead to negative growth? Justify with specific reason."
      ],
      "metadata": {
        "id": "qYpmQ266Yuh3"
      }
    },
    {
      "cell_type": "markdown",
      "source": [
        "**The insights that can help creating a positive business impact in the following ways:**\n",
        "\n",
        "* By understanding the weight-cost correlation, companies can optimize shipment sizes to ensure cost-efficiency.\n",
        "\n",
        "* Outliers might indicate inefficient routes, overcharges, or underutilized capacity, which can be flagged for process improvement.\n",
        "\n",
        "* Freight contracts can be revisited using this insight to negotiate better rates based on shipment weight brackets.\n",
        "\n",
        "**Insights that lead to negative growth:**\n",
        "\n",
        "* If outliers or inefficient weight-cost relationships go unnoticed, logistics expenses may rise unnecessarily.\n",
        "\n",
        "* Without using this insight, the company might continue paying disproportionately high freight costs for certain weight ranges."
      ],
      "metadata": {
        "id": "_WtzZ_hCYuh4"
      }
    },
    {
      "cell_type": "markdown",
      "source": [
        "#### Chart - 6"
      ],
      "metadata": {
        "id": "OH-pJp9IphqM"
      }
    },
    {
      "cell_type": "code",
      "source": [
        "# Chart - 6 visualization code\n",
        "plt.figure(figsize=(12, 6))\n",
        "sns.regplot(\n",
        "    data=df,\n",
        "    x='line_item_insurance_(usd)',\n",
        "    y='freight_cost_(usd)',\n",
        "    scatter_kws={'alpha':0.5, 'color':'orange'},\n",
        "    line_kws={'color':'darkred'}\n",
        ")\n",
        "plt.title('Freight Cost vs Line Item Insurance')\n",
        "plt.xlabel('Line Item Insurance (USD)')\n",
        "plt.ylabel('Freight Cost (USD)')\n",
        "plt.grid(True)\n",
        "plt.show()"
      ],
      "metadata": {
        "id": "kuRf4wtuphqN"
      },
      "execution_count": null,
      "outputs": []
    },
    {
      "cell_type": "markdown",
      "source": [
        "##### 1. Why did you pick the specific chart?"
      ],
      "metadata": {
        "id": "bbFf2-_FphqN"
      }
    },
    {
      "cell_type": "markdown",
      "source": [
        "A scatter plot with a regression line because it’s ideal for analyzing the relationship between two continuous variables—in this case, freight cost and line item insurance. The chart helps identify whether there is a linear correlation or trend between the value of insurance and the cost incurred in freight."
      ],
      "metadata": {
        "id": "loh7H2nzphqN"
      }
    },
    {
      "cell_type": "markdown",
      "source": [
        "##### 2. What is/are the insight(s) found from the chart?"
      ],
      "metadata": {
        "id": "_ouA3fa0phqN"
      }
    },
    {
      "cell_type": "markdown",
      "source": [
        "* There is a weak to moderate positive correlation between line item insurance and freight cost—as the insurance value increases, freight cost tends to increase as well.\n",
        "\n",
        "* However, the data is widely dispersed, especially for lower insurance values, where freight costs vary drastically.\n",
        "\n",
        "* The regression line and its shaded confidence interval show a general upward trend, confirming the positive association.\n",
        "\n",
        "* Some outliers exist where low insurance values are paired with unusually high freight costs and vice versa."
      ],
      "metadata": {
        "id": "VECbqPI7phqN"
      }
    },
    {
      "cell_type": "markdown",
      "source": [
        "##### 3. Will the gained insights help creating a positive business impact?\n",
        "Are there any insights that lead to negative growth? Justify with specific reason."
      ],
      "metadata": {
        "id": "Seke61FWphqN"
      }
    },
    {
      "cell_type": "markdown",
      "source": [
        "**The insights that can help creating a positive business impact in the following ways:**\n",
        "\n",
        "* This relationship can help in risk-based freight cost forecasting—if a product requires high insurance, companies can proactively budget higher freight expenses.\n",
        "\n",
        "* Can guide logistics planning for high-value goods, improving cost efficiency and profitability by choosing optimized shipping options.\n",
        "\n",
        "* It helps in setting insurance and shipping policies—for example, bundling high-value goods in fewer shipments to reduce cumulative freight cost.\n",
        "\n",
        "**Insights that lead to negative growth:**\n",
        "\n",
        "* If this correlation is ignored, businesses might underestimate freight costs for high-insurance items, leading to budget overruns.\n",
        "\n",
        "* Also, frequent mismatches between freight cost and insurance value (seen in outliers) may signal inefficient shipment handling, possibly due to poor vendor selection or shipment mode misalignment."
      ],
      "metadata": {
        "id": "DW4_bGpfphqN"
      }
    },
    {
      "cell_type": "markdown",
      "source": [
        "#### Chart - 7"
      ],
      "metadata": {
        "id": "PIIx-8_IphqN"
      }
    },
    {
      "cell_type": "code",
      "source": [
        "# Chart - 7 visualization code\n",
        "plt.figure(figsize=(12, 6))\n",
        "avg_freight_by_vendor = df.groupby('vendor')['freight_cost_(usd)'].mean().sort_values(ascending=False).head(10)\n",
        "sns.barplot(x=avg_freight_by_vendor.values, y=avg_freight_by_vendor.index, palette='mako')\n",
        "plt.title('Top 10 Vendors by Average Freight Cost', fontsize=14)\n",
        "plt.xlabel('Average Freight Cost (USD)', fontsize=12)\n",
        "plt.ylabel('Vendor Name', fontsize=12)\n",
        "plt.tight_layout()\n",
        "plt.show()"
      ],
      "metadata": {
        "id": "lqAIGUfyphqO"
      },
      "execution_count": null,
      "outputs": []
    },
    {
      "cell_type": "markdown",
      "source": [
        "##### 1. Why did you pick the specific chart?"
      ],
      "metadata": {
        "id": "t27r6nlMphqO"
      }
    },
    {
      "cell_type": "markdown",
      "source": [
        "This horizontal bar chart was chosen to clearly rank and compare vendors based on their average freight costs."
      ],
      "metadata": {
        "id": "iv6ro40sphqO"
      }
    },
    {
      "cell_type": "markdown",
      "source": [
        "##### 2. What is/are the insight(s) found from the chart?"
      ],
      "metadata": {
        "id": "r2jJGEOYphqO"
      }
    },
    {
      "cell_type": "markdown",
      "source": [
        "* The medical export group BV has the highest average freight cost, followed by shanghai kehua bioengineering co., ltd. And inverness medical innovations Hong kong ltd.\n",
        "\n",
        "* There's a significant gap in average freight cost between the top vendor (over $35,000) and the 10th-ranked vendor (just under $10,000), indicating varying shipping efficiencies or logistics complexities.\n",
        "\n",
        "* Many high-cost vendors appear to be international companies, suggesting longer distances, heavier shipments, or premium shipping services may be involved."
      ],
      "metadata": {
        "id": "Po6ZPi4hphqO"
      }
    },
    {
      "cell_type": "markdown",
      "source": [
        "##### 3. Will the gained insights help creating a positive business impact?\n",
        "Are there any insights that lead to negative growth? Justify with specific reason."
      ],
      "metadata": {
        "id": "b0JNsNcRphqO"
      }
    },
    {
      "cell_type": "markdown",
      "source": [
        "**The insights that can help creating a positive business impact in the following ways:**\n",
        "\n",
        "* Vendor-Specific Cost Management: FedEx can engage with high-cost vendors to optimize shipping methods, consolidate shipments, or review contract terms.\n",
        "\n",
        "* Contract Negotiation & Tiered Pricing: Helps in revisiting freight agreements with these vendors or introducing tiered pricing strategies based on volume or frequency.\n",
        "\n",
        "* Supply Chain Optimization: Identifying expensive vendors may trigger a review of whether regional suppliers could be used instead, cutting down transportation costs.\n",
        "\n",
        "**Insights that lead to negative growth:**\n",
        "\n",
        "* Over-Reliance on Expensive Vendors: If high freight cost vendors are over-utilized without clear ROI, this can erode profit margins.\n",
        "\n",
        "* Customer Pricing Imbalance: These elevated costs might be passed on to customers, risking competitive pricing and customer churn."
      ],
      "metadata": {
        "id": "xvSq8iUTphqO"
      }
    },
    {
      "cell_type": "markdown",
      "source": [
        "#### Chart - 8"
      ],
      "metadata": {
        "id": "BZR9WyysphqO"
      }
    },
    {
      "cell_type": "code",
      "source": [
        "# Chart - 8 visualization code\n",
        "plt.figure(figsize=(12,6))\n",
        "sns.boxplot(data=df, x='product_group', y='freight_cost_(usd)', palette='coolwarm')\n",
        "plt.title('Freight Cost Distribution by Product Group')\n",
        "plt.xlabel('Product Group')\n",
        "plt.ylabel('Freight Cost (USD)')\n",
        "plt.xticks(rotation=20)\n",
        "plt.tight_layout()\n",
        "plt.show()"
      ],
      "metadata": {
        "id": "TdPTWpAVphqO"
      },
      "execution_count": null,
      "outputs": []
    },
    {
      "cell_type": "markdown",
      "source": [
        "##### 1. Why did you pick the specific chart?"
      ],
      "metadata": {
        "id": "jj7wYXLtphqO"
      }
    },
    {
      "cell_type": "markdown",
      "source": [
        " Boxplot because it is an effective visualization to analyze the distribution, central tendency, and spread of freight costs across different product groups. It also clearly highlights the presence of outliers, which is important in logistics cost analysis where some shipments may disproportionately impact the overall expenses."
      ],
      "metadata": {
        "id": "Ob8u6rCTphqO"
      }
    },
    {
      "cell_type": "markdown",
      "source": [
        "##### 2. What is/are the insight(s) found from the chart?"
      ],
      "metadata": {
        "id": "eZrbJ2SmphqO"
      }
    },
    {
      "cell_type": "markdown",
      "source": [
        "* ARV and HRDT product groups have the highest median freight costs and widest cost distributions, along with a significant number of outliers, indicating inconsistent and possibly inflated shipping costs for these categories.\n",
        "\n",
        "* ACT has a relatively moderate median and a tighter distribution, suggesting more predictable freight costs.\n",
        "\n",
        "* MRDT has almost negligible freight cost, or very low cost across the board.\n",
        "\n",
        "* ANTM shows a small number of outliers and a moderate distribution, suggesting some variation but not extreme.\n",
        "\n"
      ],
      "metadata": {
        "id": "mZtgC_hjphqO"
      }
    },
    {
      "cell_type": "markdown",
      "source": [
        "##### 3. Will the gained insights help creating a positive business impact?\n",
        "Are there any insights that lead to negative growth? Justify with specific reason."
      ],
      "metadata": {
        "id": "rFu4xreNphqO"
      }
    },
    {
      "cell_type": "markdown",
      "source": [
        "**The insights that can help creating a positive business impact in the following ways:**\n",
        "\n",
        "* By identifying ARV and HRDT as groups with high and inconsistent freight costs, stakeholders can investigate reasons—such as shipment size, urgency, or origin—and optimize transportation strategies (e.g., consolidated shipping or alternate logistics partners).\n",
        "\n",
        "* ACT and ANTM appear more manageable and predictable, which helps in forecasting and budgeting.\n",
        "\n",
        "**Insights that lead to negative growth:**\n",
        "\n",
        "* The high variability and extreme outliers in ARV and HRDT might be a cost sink, especially if these products are not contributing proportionally to revenue. This could impact profitability if not addressed.\n",
        "\n",
        "* If MRDT is indeed critical but consistently cheap, it might signal under-utilization of shipment capacity, or potential quality/volume issues."
      ],
      "metadata": {
        "id": "ey_0qi68phqO"
      }
    },
    {
      "cell_type": "markdown",
      "source": [
        "#### Chart - 9"
      ],
      "metadata": {
        "id": "YJ55k-q6phqO"
      }
    },
    {
      "cell_type": "code",
      "source": [
        "# Chart - 9 visualization code\n",
        "plt.figure(figsize=(10,6))\n",
        "sns.boxplot(data=df, x='shipment_mode', y='freight_cost_(usd)', palette='pastel')\n",
        "plt.title('Freight Cost by Mode of Shipment')\n",
        "plt.xlabel('Mode of Shipment')\n",
        "plt.ylabel('Freight Cost (USD)')\n",
        "plt.xticks(rotation=15)\n",
        "plt.tight_layout()\n",
        "plt.show()"
      ],
      "metadata": {
        "id": "B2aS4O1ophqO"
      },
      "execution_count": null,
      "outputs": []
    },
    {
      "cell_type": "markdown",
      "source": [
        "##### 1. Why did you pick the specific chart?"
      ],
      "metadata": {
        "id": "gCFgpxoyphqP"
      }
    },
    {
      "cell_type": "markdown",
      "source": [
        "A boxplot for this analysis because it effectively visualizes the spread, central tendency, and variability in freight costs across different modes of shipment (Air, Truck, Air Charter, Ocean). It also highlights outliers that may significantly impact logistics costs and identifies which modes are more cost-effective or volatile."
      ],
      "metadata": {
        "id": "TVxDimi2phqP"
      }
    },
    {
      "cell_type": "markdown",
      "source": [
        "##### 2. What is/are the insight(s) found from the chart?"
      ],
      "metadata": {
        "id": "OVtJsKN_phqQ"
      }
    },
    {
      "cell_type": "markdown",
      "source": [
        "* Air Charter has the highest median freight cost and widest cost spread, indicating it is the most expensive and inconsistent mode of shipment.\n",
        "\n",
        "* Air and Truck have relatively similar medians, but Air has more extreme outliers, indicating potential spikes in cost.\n",
        "\n",
        "* Ocean appears to be more cost-efficient, with a lower median and tighter distribution compared to others.\n",
        "\n",
        "* Outliers are present in all modes, but they are more frequent and extreme in Air Charter and Air, pointing to potential inefficiencies or high-priority shipping decisions."
      ],
      "metadata": {
        "id": "ngGi97qjphqQ"
      }
    },
    {
      "cell_type": "markdown",
      "source": [
        "##### 3. Will the gained insights help creating a positive business impact?\n",
        "Are there any insights that lead to negative growth? Justify with specific reason."
      ],
      "metadata": {
        "id": "lssrdh5qphqQ"
      }
    },
    {
      "cell_type": "markdown",
      "source": [
        "**The insights that can help creating a positive business impact in the following ways:**\n",
        "\n",
        "* This chart enables strategic decision-making by identifying which shipment modes contribute most to freight cost variability.\n",
        "\n",
        "* Shifting non-urgent shipments from Air Charter to Ocean or Truck can significantly reduce freight expenses.\n",
        "\n",
        "* Helps in budget forecasting and negotiating with logistics partners for cost control.\n",
        "\n",
        "**Insights that lead to negative growth:**\n",
        "\n",
        "* Heavy reliance on Air Charter, despite its high cost, could lead to profit margin erosion, especially if used unnecessarily for low-priority or bulk items.\n",
        "\n",
        "* Ignoring the insights could result in unsustainable logistics costs and inefficient resource allocation."
      ],
      "metadata": {
        "id": "tBpY5ekJphqQ"
      }
    },
    {
      "cell_type": "markdown",
      "source": [
        "# Multivariate Analysis"
      ],
      "metadata": {
        "id": "6KIWU3EPv_1u"
      }
    },
    {
      "cell_type": "markdown",
      "source": [
        "#### Chart - 10"
      ],
      "metadata": {
        "id": "U2RJ9gkRphqQ"
      }
    },
    {
      "cell_type": "code",
      "source": [
        "# Chart - 10 visualization code\n",
        "plt.figure(figsize=(12, 6))\n",
        "sns.boxplot(data=df, x='shipment_mode', y='freight_cost_(usd)', hue='product_group')\n",
        "plt.title('Freight Cost by Mode of Shipment and Product Group')\n",
        "plt.xlabel('Mode of Shipment')\n",
        "plt.ylabel('Freight Cost (USD)')\n",
        "plt.xticks(rotation=45)\n",
        "plt.legend(title='Product Group')\n",
        "plt.tight_layout()\n",
        "plt.show()"
      ],
      "metadata": {
        "id": "GM7a4YP4phqQ"
      },
      "execution_count": null,
      "outputs": []
    },
    {
      "cell_type": "markdown",
      "source": [
        "##### 1. Why did you pick the specific chart?"
      ],
      "metadata": {
        "id": "1M8mcRywphqQ"
      }
    },
    {
      "cell_type": "markdown",
      "source": [
        " Boxplot because it's perfect for comparing freight cost distributions across different modes of shipment and product groups. It visually conveys medians, variability, and outliers, making it easy to identify cost-intensive shipment methods and product categories at a glance."
      ],
      "metadata": {
        "id": "8agQvks0phqQ"
      }
    },
    {
      "cell_type": "markdown",
      "source": [
        "##### 2. What is/are the insight(s) found from the chart?"
      ],
      "metadata": {
        "id": "tgIPom80phqQ"
      }
    },
    {
      "cell_type": "markdown",
      "source": [
        "* Air and Air Charter shipments tend to have higher freight costs, with Air Charter being especially expensive for the ARV group.\n",
        "\n",
        "* The ARV product group shows high freight cost variability across all shipment types, particularly Air Charter, where median costs are significantly elevated.\n",
        "\n",
        "* Ocean shipments, while slower, show lower median freight costs, especially for HRDT and ARV—suggesting a cost-effective option.\n",
        "\n",
        "* Truck shipments are relatively moderate in cost, but ARV still shows a higher range of costs even here.\n",
        "\n",
        "* HRDT and ARV are the most frequently shipped product groups across all modes."
      ],
      "metadata": {
        "id": "Qp13pnNzphqQ"
      }
    },
    {
      "cell_type": "markdown",
      "source": [
        "##### 3. Will the gained insights help creating a positive business impact?\n",
        "Are there any insights that lead to negative growth? Justify with specific reason."
      ],
      "metadata": {
        "id": "JMzcOPDDphqR"
      }
    },
    {
      "cell_type": "markdown",
      "source": [
        "**The insights that can help creating a positive business impact in the following ways:**\n",
        "\n",
        "* Helps identify cost-saving opportunities by encouraging the use of ocean freight where feasible, particularly for non-urgent shipments.\n",
        "\n",
        "* Businesses can optimize logistics planning—for instance, reserving Air Charter for high-priority or life-saving ARV shipments only.\n",
        "\n",
        "* Assists in budget forecasting and inventory planning, ensuring better control over shipping expenses by product group.\n",
        "\n",
        "**Insights that lead to negative growth:**\n",
        "\n",
        "* Overreliance on Air Charter for ARV shipments can inflate logistics costs unnecessarily, especially if urgency is not critical.\n",
        "\n",
        "* Without adjusting the mode of shipment by cost-effectiveness, the company may face reduced margins, particularly for high-volume shipments."
      ],
      "metadata": {
        "id": "R4Ka1PC2phqR"
      }
    },
    {
      "cell_type": "markdown",
      "source": [
        "#### Chart - 11"
      ],
      "metadata": {
        "id": "x-EpHcCOp1ci"
      }
    },
    {
      "cell_type": "code",
      "source": [
        "# Chart - 11 visualization code\n",
        "plt.figure(figsize=(12, 6))\n",
        "grouped = df.groupby(['product_group', 'shipment_mode'])['freight_cost_(usd)'].sum().reset_index()\n",
        "sns.barplot(data=grouped, x='product_group', y='freight_cost_(usd)', hue='shipment_mode')\n",
        "plt.title('Total Freight Cost by Product Group & Shipment Mode')\n",
        "plt.xlabel('Product Group')\n",
        "plt.ylabel('Total Freight Cost (USD)')\n",
        "plt.xticks(rotation=45)\n",
        "plt.legend(title='Shipment Mode')\n",
        "plt.tight_layout()\n",
        "plt.show()"
      ],
      "metadata": {
        "id": "mAQTIvtqp1cj"
      },
      "execution_count": null,
      "outputs": []
    },
    {
      "cell_type": "markdown",
      "source": [
        "##### 1. Why did you pick the specific chart?"
      ],
      "metadata": {
        "id": "X_VqEhTip1ck"
      }
    },
    {
      "cell_type": "markdown",
      "source": [
        "Grouped bar chart because it effectively visualizes the total freight cost for each product group broken down by shipment mode, making it easy to identify the most expensive logistics combinations and understand how costs are distributed across product types."
      ],
      "metadata": {
        "id": "-vsMzt_np1ck"
      }
    },
    {
      "cell_type": "markdown",
      "source": [
        "##### 2. What is/are the insight(s) found from the chart?"
      ],
      "metadata": {
        "id": "8zGJKyg5p1ck"
      }
    },
    {
      "cell_type": "markdown",
      "source": [
        "* ARV and HRDT are the top contributors to freight costs overall.\n",
        "\n",
        "* Air shipments for ARV dominate the chart, with a total cost exceeding $25 million, making it the single most expensive shipping combination.\n",
        "\n",
        "* Truck and Air Charter are also significantly used for ARV, contributing to overall high logistics spend.\n",
        "\n",
        "* Ocean shipments are underutilized across all product groups despite their lower costs.\n",
        "\n",
        "* ACT, ANTM, and MRDT have negligible freight cost contributions, implying either low volume or infrequent shipments."
      ],
      "metadata": {
        "id": "ZYdMsrqVp1ck"
      }
    },
    {
      "cell_type": "markdown",
      "source": [
        "##### 3. Will the gained insights help creating a positive business impact?\n",
        "Are there any insights that lead to negative growth? Justify with specific reason."
      ],
      "metadata": {
        "id": "PVzmfK_Ep1ck"
      }
    },
    {
      "cell_type": "markdown",
      "source": [
        "**The insights that can help creating a positive business impact in the following ways:**\n",
        "\n",
        "* The chart clearly pinpoints cost-heavy areas like ARV via Air and suggests where cost optimization is urgently needed.\n",
        "\n",
        "* By shifting non-urgent ARV shipments to ocean or truck, businesses can significantly reduce logistics costs.\n",
        "\n",
        "* Helps in supply chain budget planning and prioritizing shipment strategies based on cost-efficiency.\n",
        "\n",
        "**Insights that lead to negative growth:**\n",
        "\n",
        "* Continuing with Air as the dominant mode for ARV and HRDT will erode profit margins due to high logistics expenditure.\n",
        "\n",
        "* Underutilization of cost-effective modes like Ocean indicates a missed opportunity for optimization and more sustainable shipping."
      ],
      "metadata": {
        "id": "druuKYZpp1ck"
      }
    },
    {
      "cell_type": "markdown",
      "source": [
        "#### Chart - 12"
      ],
      "metadata": {
        "id": "n3dbpmDWp1ck"
      }
    },
    {
      "cell_type": "code",
      "source": [
        "# Chart - 12 visualization code\n",
        "plt.figure(figsize=(14, 6))\n",
        "sns.swarmplot(data=df, x='country', y='freight_cost_(usd)', hue='product_group')\n",
        "plt.title('Freight Cost Distribution by Country & Product Group')\n",
        "plt.xlabel('Country')\n",
        "plt.ylabel('Freight Cost (USD)')\n",
        "plt.xticks(rotation=90)\n",
        "plt.legend(title='Product Group', bbox_to_anchor=(1.05, 1), loc='upper left')\n",
        "plt.tight_layout()\n",
        "plt.show()"
      ],
      "metadata": {
        "id": "bwevp1tKp1ck"
      },
      "execution_count": null,
      "outputs": []
    },
    {
      "cell_type": "markdown",
      "source": [
        "##### 1. Why did you pick the specific chart?"
      ],
      "metadata": {
        "id": "ylSl6qgtp1ck"
      }
    },
    {
      "cell_type": "markdown",
      "source": [
        "Scatter plot because it visualizes the spread and variability of freight costs across different countries and product groups. It’s ideal for identifying outliers, cost anomalies, and country-wise cost concentrations that wouldn't be apparent in summary charts."
      ],
      "metadata": {
        "id": "m2xqNkiQp1ck"
      }
    },
    {
      "cell_type": "markdown",
      "source": [
        "##### 2. What is/are the insight(s) found from the chart?"
      ],
      "metadata": {
        "id": "ZWILFDl5p1ck"
      }
    },
    {
      "cell_type": "markdown",
      "source": [
        "* ARV and HRDT dominate freight costs across most countries, visible through the large number of orange and blue dots.\n",
        "\n",
        "* High-cost outliers are visible in countries like Ethiopia, Kenya, Mozambique, Nigeria, and Uganda, suggesting possible inefficiencies, urgent shipments, or long distances.\n",
        "\n",
        "* Mozambique and Ethiopia stand out with freight costs reaching above $200,000–$250,000 in certain instances.\n",
        "\n",
        "* Countries like Guinea, Libya, Liberia, and Guatemala have minimal freight cost distributions—indicating fewer shipments or better cost control.\n",
        "\n",
        "* ACT, MRDT, and ANTM product groups are rarely shipped or have very low freight costs across all countries."
      ],
      "metadata": {
        "id": "x-lUsV2mp1ck"
      }
    },
    {
      "cell_type": "markdown",
      "source": [
        "##### 3. Will the gained insights help creating a positive business impact?\n",
        "Are there any insights that lead to negative growth? Justify with specific reason."
      ],
      "metadata": {
        "id": "M7G43BXep1ck"
      }
    },
    {
      "cell_type": "markdown",
      "source": [
        "**The insights that can help creating a positive business impact in the following ways:**\n",
        "\n",
        "* The country-specific analysis helps to target cost-reduction strategies for the most expensive regions (e.g., Kenya, Mozambique).\n",
        "\n",
        "* Enables a granular audit of outlier costs, which can uncover logistical bottlenecks, corruption, or inefficient routing.\n",
        "\n",
        "* Identifies countries with stable and controlled costs, which could serve as models for best practices.\n",
        "\n",
        "**Insights that lead to negative growth:**\n",
        "\n",
        "* Failure to address outliers could lead to budget overruns, especially in high-volume countries.\n",
        "\n",
        "* Without such detailed analysis, strategic planning and negotiation with local logistics partners becomes less effective, leading to missed opportunities for cost savings."
      ],
      "metadata": {
        "id": "5wwDJXsLp1cl"
      }
    },
    {
      "cell_type": "markdown",
      "source": [
        "#### Chart - 13"
      ],
      "metadata": {
        "id": "Ag9LCva-p1cl"
      }
    },
    {
      "cell_type": "code",
      "source": [
        "# Chart - 13 visualization code\n",
        "plt.figure(figsize=(12, 6))\n",
        "sns.violinplot(\n",
        "    data=df_clean,\n",
        "    x='shipment_mode',\n",
        "    y='delivery_delay',\n",
        "    hue='product_group',\n",
        "    split=True,\n",
        "    inner='quartile',\n",
        "    palette='Set2'\n",
        ")\n",
        "plt.title('Delivery Delay Distribution by Mode of Shipment and Product Group')\n",
        "plt.xlabel('Mode of Shipment')\n",
        "plt.ylabel('Delivery Delay (Days)')\n",
        "plt.legend(title='Product Group', bbox_to_anchor=(1.05, 1), loc='upper left')\n",
        "plt.tight_layout()\n",
        "plt.show()"
      ],
      "metadata": {
        "id": "EUfxeq9-p1cl"
      },
      "execution_count": null,
      "outputs": []
    },
    {
      "cell_type": "markdown",
      "source": [
        "##### 1. Why did you pick the specific chart?"
      ],
      "metadata": {
        "id": "E6MkPsBcp1cl"
      }
    },
    {
      "cell_type": "markdown",
      "source": [
        "The violin plot was chosen because it effectively displays both the distribution and spread of delivery_delay across different mode_of_shipment categories, while also comparing across product_group. It gives a clear idea of how delays vary within and between shipment methods and product categories."
      ],
      "metadata": {
        "id": "V22bRsFWp1cl"
      }
    },
    {
      "cell_type": "markdown",
      "source": [
        "##### 2. What is/are the insight(s) found from the chart?"
      ],
      "metadata": {
        "id": "2cELzS2fp1cl"
      }
    },
    {
      "cell_type": "markdown",
      "source": [
        "* Air shipments show wide variability in delivery delays, especially for ARV and ACT product groups.\n",
        "\n",
        "* Truck shipments also display high negative outliers, indicating significant early deliveries or possibly incorrect date entries.\n",
        "\n",
        "* Air Charter and Ocean have narrower distributions, suggesting more consistency in delivery timing.\n",
        "\n",
        "* The ACT group tends to have more frequent and larger delivery delays, especially when shipped via Air."
      ],
      "metadata": {
        "id": "ozQPc2_Ip1cl"
      }
    },
    {
      "cell_type": "markdown",
      "source": [
        "##### 3. Will the gained insights help creating a positive business impact?\n",
        "Are there any insights that lead to negative growth? Justify with specific reason."
      ],
      "metadata": {
        "id": "3MPXvC8up1cl"
      }
    },
    {
      "cell_type": "markdown",
      "source": [
        "**The insights that can help creating a positive business impact in the following ways:**\n",
        "\n",
        "* Helps identify which shipment methods and product categories are prone to delays or inconsistencies.\n",
        "\n",
        "* Logistics and procurement teams can optimize shipping modes for products like ACT to improve delivery performance.\n",
        "\n",
        "**Insights that lead to negative growth:**\n",
        "\n",
        "* Continued use of modes with high variability for time-sensitive products can lead to customer dissatisfaction and loss of trust.\n",
        "\n",
        "* Delays in delivery for critical goods like ARV (likely Antiretroviral drugs) could have serious consequences in a healthcare supply chain."
      ],
      "metadata": {
        "id": "GL8l1tdLp1cl"
      }
    },
    {
      "cell_type": "markdown",
      "source": [
        "#### Chart - 14 - Correlation Heatmap"
      ],
      "metadata": {
        "id": "NC_X3p0fY2L0"
      }
    },
    {
      "cell_type": "code",
      "source": [
        "# Correlation Heatmap visualization code\n",
        "\n",
        "# Selecting numerical features for correlation\n",
        "corr_features = df_clean[['delivery_delay', 'freight_cost_(usd)', 'weight_(kilograms)', 'line_item_value']]\n",
        "\n",
        "# Compute correlation matrix\n",
        "corr_matrix = corr_features.corr()\n",
        "\n",
        "# Plotting heatmap\n",
        "plt.figure(figsize=(10, 6))\n",
        "sns.heatmap(corr_matrix, annot=True, cmap='coolwarm', fmt=\".2f\", linewidths=0.5)\n",
        "plt.title('Correlation Heatmap of Key Numerical Features')\n",
        "plt.show()"
      ],
      "metadata": {
        "id": "xyC9zolEZNRQ"
      },
      "execution_count": null,
      "outputs": []
    },
    {
      "cell_type": "markdown",
      "source": [
        "##### 1. Why did you pick the specific chart?"
      ],
      "metadata": {
        "id": "UV0SzAkaZNRQ"
      }
    },
    {
      "cell_type": "markdown",
      "source": [
        "I chose the Correlation Heatmap because it is an effective visualization to examine linear relationships between multiple numerical features simultaneously. It helps identify which variables are positively or negatively correlated and to what extent, guiding further feature selection, analysis, or modeling decisions."
      ],
      "metadata": {
        "id": "DVPuT8LYZNRQ"
      }
    },
    {
      "cell_type": "markdown",
      "source": [
        "##### 2. What is/are the insight(s) found from the chart?"
      ],
      "metadata": {
        "id": "YPEH6qLeZNRQ"
      }
    },
    {
      "cell_type": "markdown",
      "source": [
        "* freight_cost_(usd) has a moderate positive correlation with both line_item_value (0.43) and weight_(kilograms) (0.23), suggesting that as item weight and value increase, freight cost tends to increase too.\n",
        "\n",
        "* line_item_value and weight_(kilograms) are moderately correlated (0.35), indicating that heavier items generally tend to be more valuable.\n",
        "\n",
        "* delivery_delay shows almost no correlation with the other variables (all values between -0.04 and -0.02), implying that delivery delays are likely influenced by other factors (e.g., logistics, external disruptions) not captured in these specific numerical columns."
      ],
      "metadata": {
        "id": "bfSqtnDqZNRR"
      }
    },
    {
      "cell_type": "markdown",
      "source": [
        "#### Chart - 15 - Pair Plot"
      ],
      "metadata": {
        "id": "q29F0dvdveiT"
      }
    },
    {
      "cell_type": "code",
      "source": [
        "# Pair Plot visualization code\n",
        "sns.pairplot(df_clean[['delivery_delay', 'freight_cost_(usd)', 'weight_(kilograms)', 'line_item_value']], kind='scatter', plot_kws={'alpha': 0.5})\n",
        "plt.suptitle('Pair Plot of Numerical Features', y=1.02)\n",
        "plt.show()"
      ],
      "metadata": {
        "id": "o58-TEIhveiU"
      },
      "execution_count": null,
      "outputs": []
    },
    {
      "cell_type": "markdown",
      "source": [
        "##### 1. Why did you pick the specific chart?"
      ],
      "metadata": {
        "id": "EXh0U9oCveiU"
      }
    },
    {
      "cell_type": "markdown",
      "source": [
        "I chose the Pair Plot because it enables a detailed visual inspection of relationships and distributions among all combinations of multiple numerical features."
      ],
      "metadata": {
        "id": "eMmPjTByveiU"
      }
    },
    {
      "cell_type": "markdown",
      "source": [
        "##### 2. What is/are the insight(s) found from the chart?"
      ],
      "metadata": {
        "id": "22aHeOlLveiV"
      }
    },
    {
      "cell_type": "markdown",
      "source": [
        "* Most features, like freight_cost_(usd), weight_(kilograms), and line_item_value, show some positive trends with one another, supporting the moderate correlations from the heatmap.\n",
        "\n",
        "* delivery_delay has a very scattered and wide distribution with other variables, especially showing no clear linear relationship, which visually confirms its weak correlation.\n",
        "\n",
        "* The distributions along the diagonals highlight significant skewness, particularly in freight_cost_(usd) and line_item_value, which may require transformation (like log-scaling) for modeling or deeper analysis.\n",
        "\n",
        "* There are clear outliers in all variables — especially in weight, freight cost, and line item value — which could impact analysis and should be investigated or cleaned if necessary."
      ],
      "metadata": {
        "id": "uPQ8RGwHveiV"
      }
    },
    {
      "cell_type": "markdown",
      "source": [
        "## **5. Solution to Business Objective**"
      ],
      "metadata": {
        "id": "JcMwzZxoAimU"
      }
    },
    {
      "cell_type": "markdown",
      "source": [
        "#### What do you suggest the client to achieve Business Objective ?\n",
        "Explain Briefly."
      ],
      "metadata": {
        "id": "8G2x9gOozGDZ"
      }
    },
    {
      "cell_type": "markdown",
      "source": [
        "\n",
        "**Solution to Business Objective:**\n",
        "\n",
        "To achieve the business objective of optimizing FedEx’s delivery operations, we suggest a few key solutions based on the insights generated from the EDA:\n",
        "\n",
        "1. Optimize Delivery Routes: By identifying patterns in delivery times and zones, FedEx can optimize delivery routes to reduce delays and improve efficiency.\n",
        "\n",
        "2. Resource Allocation: Analyzing delivery times against package characteristics (weight, size) and delivery status will help allocate resources (drivers, vehicles) more effectively, ensuring timely deliveries.\n",
        "\n",
        "3. Scheduling Improvements: The project will highlight the best times for deliveries and potential bottlenecks. This insight can be used to refine delivery scheduling and ensure smoother operations.\n",
        "\n",
        "4. Data-Driven Decision Making: The visualizations and analysis will provide a clear view of the most critical performance metrics, helping managers make informed decisions to boost efficiency.\n",
        "\n",
        "In addition to these solutions, the project also emphasizes continuous monitoring and real-time data integration, which will allow FedEx to make iterative improvements over time based on up-to-date data."
      ],
      "metadata": {
        "id": "pASKb0qOza21"
      }
    },
    {
      "cell_type": "markdown",
      "source": [
        "# **Conclusion**"
      ],
      "metadata": {
        "id": "gCX9965dhzqZ"
      }
    },
    {
      "cell_type": "markdown",
      "source": [
        "This project provides valuable insights into FedEx’s delivery performance using a comprehensive Exploratory Data Analysis of the SCMS Delivery History dataset. Through the application of Univariate, Bivariate, and Multivariate analysis techniques, we’ve uncovered several key factors influencing delivery efficiency. By implementing the suggested solutions, such as optimizing delivery routes, improving resource allocation, and refining scheduling, FedEx can improve operational efficiency, reduce delivery times, and ultimately enhance customer satisfaction. The findings from this project offer a strategic roadmap for leveraging data to make better, more informed business decisions, driving continuous improvement in FedEx’s logistics and delivery systems."
      ],
      "metadata": {
        "id": "Fjb1IsQkh3yE"
      }
    },
    {
      "cell_type": "markdown",
      "source": [
        "### ***Hurrah! You have successfully completed your EDA Capstone Project !!!***"
      ],
      "metadata": {
        "id": "gIfDvo9L0UH2"
      }
    }
  ]
}