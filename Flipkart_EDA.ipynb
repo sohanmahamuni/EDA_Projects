{
  "nbformat": 4,
  "nbformat_minor": 0,
  "metadata": {
    "colab": {
      "private_outputs": true,
      "provenance": [],
      "collapsed_sections": [
        "vncDsAP0Gaoa",
        "FJNUwmbgGyua",
        "w6K7xa23Elo4",
        "yQaldy8SH6Dl",
        "PH-0ReGfmX4f",
        "mDgbUHAGgjLW",
        "O_i_v8NEhb9l",
        "HhfV-JJviCcP",
        "Y3lxredqlCYt",
        "3RnN4peoiCZX",
        "x71ZqKXriCWQ",
        "7hBIi_osiCS2",
        "JlHwYmJAmNHm",
        "35m5QtbWiB9F",
        "PoPl-ycgm1ru",
        "H0kj-8xxnORC",
        "nA9Y7ga8ng1Z",
        "PBTbrJXOngz2",
        "u3PMJOP6ngxN",
        "dauF4eBmngu3",
        "bKJF3rekwFvQ",
        "MSa1f5Uengrz",
        "GF8Ens_Soomf",
        "0wOQAZs5pc--",
        "K5QZ13OEpz2H",
        "lQ7QKXXCp7Bj",
        "448CDAPjqfQr",
        "KSlN3yHqYklG",
        "t6dVpIINYklI",
        "ijmpgYnKYklI",
        "-JiQyfWJYklI",
        "EM7whBJCYoAo",
        "fge-S5ZAYoAp",
        "85gYPyotYoAp",
        "RoGjAbkUYoAp",
        "4Of9eVA-YrdM",
        "iky9q4vBYrdO",
        "F6T5p64dYrdO",
        "y-Ehk30pYrdP",
        "bamQiAODYuh1",
        "QHF8YVU7Yuh3",
        "GwzvFGzlYuh3",
        "qYpmQ266Yuh3",
        "OH-pJp9IphqM",
        "bbFf2-_FphqN",
        "_ouA3fa0phqN",
        "Seke61FWphqN",
        "PIIx-8_IphqN",
        "t27r6nlMphqO",
        "r2jJGEOYphqO",
        "b0JNsNcRphqO",
        "BZR9WyysphqO",
        "jj7wYXLtphqO",
        "eZrbJ2SmphqO",
        "rFu4xreNphqO",
        "YJ55k-q6phqO",
        "gCFgpxoyphqP",
        "OVtJsKN_phqQ",
        "lssrdh5qphqQ",
        "U2RJ9gkRphqQ",
        "1M8mcRywphqQ",
        "tgIPom80phqQ",
        "JMzcOPDDphqR",
        "x-EpHcCOp1ci",
        "X_VqEhTip1ck",
        "8zGJKyg5p1ck",
        "PVzmfK_Ep1ck",
        "n3dbpmDWp1ck",
        "ylSl6qgtp1ck",
        "ZWILFDl5p1ck",
        "M7G43BXep1ck",
        "Ag9LCva-p1cl",
        "E6MkPsBcp1cl",
        "2cELzS2fp1cl",
        "3MPXvC8up1cl",
        "NC_X3p0fY2L0",
        "UV0SzAkaZNRQ",
        "YPEH6qLeZNRQ",
        "q29F0dvdveiT",
        "EXh0U9oCveiU",
        "22aHeOlLveiV",
        "JcMwzZxoAimU",
        "8G2x9gOozGDZ",
        "gCX9965dhzqZ",
        "gIfDvo9L0UH2"
      ],
      "include_colab_link": true
    },
    "kernelspec": {
      "name": "python3",
      "display_name": "Python 3"
    },
    "language_info": {
      "name": "python"
    }
  },
  "cells": [
    {
      "cell_type": "markdown",
      "metadata": {
        "id": "view-in-github",
        "colab_type": "text"
      },
      "source": [
        "<a href=\"https://colab.research.google.com/github/sohanmahamuni/EDA_Projects/blob/main/Flipkart_EDA.ipynb\" target=\"_parent\"><img src=\"https://colab.research.google.com/assets/colab-badge.svg\" alt=\"Open In Colab\"/></a>"
      ]
    },
    {
      "cell_type": "markdown",
      "source": [
        "# **Project Name**    - Flipkart Customer Service Satisfaction Analysis\n",
        "\n"
      ],
      "metadata": {
        "id": "vncDsAP0Gaoa"
      }
    },
    {
      "cell_type": "markdown",
      "source": [
        "##### **Project Type**    - EDA\n",
        "##### **Contribution**    - Individual\n"
      ],
      "metadata": {
        "id": "beRrZCGUAJYm"
      }
    },
    {
      "cell_type": "markdown",
      "source": [
        "# **Project Summary -**"
      ],
      "metadata": {
        "id": "FJNUwmbgGyua"
      }
    },
    {
      "cell_type": "markdown",
      "source": [
        "In today’s competitive e-commerce landscape, customer service plays a crucial role in sustaining brand loyalty and improving customer retention. Flipkart, being a leading e-commerce platform, continuously strives to enhance customer satisfaction to differentiate itself from competitors. This project aims to analyze customer interactions, feedback, and satisfaction scores collected from various customer service channels to identify key factors influencing customer satisfaction.\n",
        "\n",
        "By performing Exploratory Data Analysis (EDA), we will uncover patterns and insights that can help optimize service performance. We will explore various attributes such as issue response time, customer remarks, CSAT (Customer Satisfaction) scores, product categories, and agent performance. Through structured visualizations, we aim to pinpoint service inefficiencies and highlight improvement areas.\n",
        "\n",
        "This study will assist Flipkart in designing data-driven strategies to improve service experience, reduce response time, and enhance overall customer satisfaction."
      ],
      "metadata": {
        "id": "F6v_1wHtG2nS"
      }
    },
    {
      "cell_type": "markdown",
      "source": [
        "# **GitHub Link -**"
      ],
      "metadata": {
        "id": "w6K7xa23Elo4"
      }
    },
    {
      "cell_type": "markdown",
      "source": [
        "Provide your GitHub Link here."
      ],
      "metadata": {
        "id": "h1o69JH3Eqqn"
      }
    },
    {
      "cell_type": "markdown",
      "source": [
        "# **Problem Statement**\n"
      ],
      "metadata": {
        "id": "yQaldy8SH6Dl"
      }
    },
    {
      "cell_type": "markdown",
      "source": [
        "**The project seeks to analyze Flipkart’s customer service satisfaction data to determine the factors that impact CSAT scores and identify actionable insights that can improve the overall service quality.**"
      ],
      "metadata": {
        "id": "DpeJGUA3kjGy"
      }
    },
    {
      "cell_type": "markdown",
      "source": [
        "#### **Define Your Business Objective?**"
      ],
      "metadata": {
        "id": "PH-0ReGfmX4f"
      }
    },
    {
      "cell_type": "markdown",
      "source": [
        "The primary objective is to understand the factors influencing customer satisfaction and provide insights to improve service quality. This includes:\n",
        "\n",
        "* Identifying key drivers of customer dissatisfaction.\n",
        "\n",
        "* Evaluating service agents’ efficiency.\n",
        "\n",
        "* Understanding customer behavior trends and expectations.\n",
        "\n",
        "* Reducing issue resolution time.\n",
        "\n",
        "* Enhancing overall customer service experience.\n",
        "\n"
      ],
      "metadata": {
        "id": "PhDvGCAqmjP1"
      }
    },
    {
      "cell_type": "markdown",
      "source": [
        "# **General Guidelines** : -  "
      ],
      "metadata": {
        "id": "mDgbUHAGgjLW"
      }
    },
    {
      "cell_type": "markdown",
      "source": [
        "1.   Well-structured, formatted, and commented code is required.\n",
        "2.   Exception Handling, Production Grade Code & Deployment Ready Code will be a plus. Those students will be awarded some additional credits.\n",
        "     \n",
        "     The additional credits will have advantages over other students during Star Student selection.\n",
        "       \n",
        "             [ Note: - Deployment Ready Code is defined as, the whole .ipynb notebook should be executable in one go\n",
        "                       without a single error logged. ]\n",
        "\n",
        "3.   Each and every logic should have proper comments.\n",
        "4. You may add as many number of charts you want. Make Sure for each and every chart the following format should be answered.\n",
        "        \n",
        "\n",
        "```\n",
        "# Chart visualization code\n",
        "```\n",
        "            \n",
        "\n",
        "*   Why did you pick the specific chart?\n",
        "*   What is/are the insight(s) found from the chart?\n",
        "* Will the gained insights help creating a positive business impact?\n",
        "Are there any insights that lead to negative growth? Justify with specific reason.\n",
        "\n",
        "5. You have to create at least 20 logical & meaningful charts having important insights.\n",
        "\n",
        "\n",
        "[ Hints : - Do the Vizualization in  a structured way while following \"UBM\" Rule.\n",
        "\n",
        "U - Univariate Analysis,\n",
        "\n",
        "B - Bivariate Analysis (Numerical - Categorical, Numerical - Numerical, Categorical - Categorical)\n",
        "\n",
        "M - Multivariate Analysis\n",
        " ]\n",
        "\n",
        "\n",
        "\n"
      ],
      "metadata": {
        "id": "ZrxVaUj-hHfC"
      }
    },
    {
      "cell_type": "markdown",
      "source": [
        "# ***Let's Begin !***"
      ],
      "metadata": {
        "id": "O_i_v8NEhb9l"
      }
    },
    {
      "cell_type": "markdown",
      "source": [
        "## ***1. Know Your Data***"
      ],
      "metadata": {
        "id": "HhfV-JJviCcP"
      }
    },
    {
      "cell_type": "markdown",
      "source": [
        "### Import Libraries"
      ],
      "metadata": {
        "id": "Y3lxredqlCYt"
      }
    },
    {
      "cell_type": "code",
      "source": [
        "# Import Libraries\n",
        "\n",
        "import pandas as pd\n",
        "import numpy as np\n",
        "import matplotlib.pyplot as plt\n",
        "import seaborn as sns\n",
        "import missingno as msno"
      ],
      "metadata": {
        "id": "M8Vqi-pPk-HR"
      },
      "execution_count": null,
      "outputs": []
    },
    {
      "cell_type": "markdown",
      "source": [
        "### Dataset Loading"
      ],
      "metadata": {
        "id": "3RnN4peoiCZX"
      }
    },
    {
      "cell_type": "code",
      "source": [
        "# Load Dataset\n",
        "df = pd.read_csv(\"Customer_support_data.csv\")"
      ],
      "metadata": {
        "id": "4CkvbW_SlZ_R"
      },
      "execution_count": null,
      "outputs": []
    },
    {
      "cell_type": "markdown",
      "source": [
        "### Dataset First View"
      ],
      "metadata": {
        "id": "x71ZqKXriCWQ"
      }
    },
    {
      "cell_type": "code",
      "source": [
        "# Dataset First Look\n",
        "df.head()"
      ],
      "metadata": {
        "id": "LWNFOSvLl09H"
      },
      "execution_count": null,
      "outputs": []
    },
    {
      "cell_type": "markdown",
      "source": [
        "### Dataset Rows & Columns count"
      ],
      "metadata": {
        "id": "7hBIi_osiCS2"
      }
    },
    {
      "cell_type": "code",
      "source": [
        "# Dataset Rows & Columns count\n",
        "df.shape"
      ],
      "metadata": {
        "id": "Kllu7SJgmLij"
      },
      "execution_count": null,
      "outputs": []
    },
    {
      "cell_type": "markdown",
      "source": [
        "### Dataset Information"
      ],
      "metadata": {
        "id": "JlHwYmJAmNHm"
      }
    },
    {
      "cell_type": "code",
      "source": [
        "# Dataset Info\n",
        "df.info()"
      ],
      "metadata": {
        "id": "e9hRXRi6meOf"
      },
      "execution_count": null,
      "outputs": []
    },
    {
      "cell_type": "markdown",
      "source": [
        "#### Duplicate Values"
      ],
      "metadata": {
        "id": "35m5QtbWiB9F"
      }
    },
    {
      "cell_type": "code",
      "source": [
        "# Dataset Duplicate Value Count\n",
        "df.duplicated().sum()"
      ],
      "metadata": {
        "id": "1sLdpKYkmox0"
      },
      "execution_count": null,
      "outputs": []
    },
    {
      "cell_type": "markdown",
      "source": [
        "#### Missing Values/Null Values"
      ],
      "metadata": {
        "id": "PoPl-ycgm1ru"
      }
    },
    {
      "cell_type": "code",
      "source": [
        "# Missing Values/Null Values Count\n",
        "df.isnull().sum()"
      ],
      "metadata": {
        "id": "GgHWkxvamxVg"
      },
      "execution_count": null,
      "outputs": []
    },
    {
      "cell_type": "code",
      "source": [
        "# Visualizing the missing values\n",
        "sns.heatmap(df.isnull(), cmap=\"viridis\")\n",
        "plt.show()"
      ],
      "metadata": {
        "id": "3q5wnI3om9sJ"
      },
      "execution_count": null,
      "outputs": []
    },
    {
      "cell_type": "markdown",
      "source": [
        "1. Columns with Missing Data:\n",
        "\n",
        "* Sub-category\n",
        "* Customer Remarks\n",
        "* order_date_time\n",
        "* Survey_response_Date\n",
        "* Customer_city\n",
        "\n",
        "These columns show yellow lines, meaning they have missing values in multiple rows.\n",
        "\n",
        "2. Columns with No Missing Data:\n",
        "\n",
        "Unique id, channel_name, category, connected_handling_time, CSAT Score, etc., are completely purple, meaning they are fully populated (no missing values).\n",
        "\n",
        "3. Extent of Missing Data:\n",
        "\n",
        "Some columns have significant missing data (e.g., Survey_response_Date and Customer_city), while others have less frequent gaps (e.g., Customer Remarks)."
      ],
      "metadata": {
        "id": "0vi32QnPcUhy"
      }
    },
    {
      "cell_type": "markdown",
      "source": [
        "### What did you know about your dataset?"
      ],
      "metadata": {
        "id": "H0kj-8xxnORC"
      }
    },
    {
      "cell_type": "markdown",
      "source": [
        "The dataset contains customer interaction records with details like order and issue timestamps, customer feedback, channel used, product category, agent performance metrics, and CSAT scores. There are missing values in some fields and some duplicate records. The dataset is moderately large, with several categorical and numerical variables that require cleaning and standardization."
      ],
      "metadata": {
        "id": "gfoNAAC-nUe_"
      }
    },
    {
      "cell_type": "markdown",
      "source": [
        "## ***2. Understanding Your Variables***"
      ],
      "metadata": {
        "id": "nA9Y7ga8ng1Z"
      }
    },
    {
      "cell_type": "code",
      "source": [
        "# Dataset Columns\n",
        "df.columns"
      ],
      "metadata": {
        "id": "j7xfkqrt5Ag5"
      },
      "execution_count": null,
      "outputs": []
    },
    {
      "cell_type": "code",
      "source": [
        "# Dataset Describe\n",
        "df.describe()"
      ],
      "metadata": {
        "id": "DnOaZdaE5Q5t"
      },
      "execution_count": null,
      "outputs": []
    },
    {
      "cell_type": "markdown",
      "source": [
        "### Variables Description"
      ],
      "metadata": {
        "id": "PBTbrJXOngz2"
      }
    },
    {
      "cell_type": "markdown",
      "source": [
        "The dataset includes 20+ variables, such as customer service channel, product category, order date, issue response time, agent details, and CSAT scores. These variables offer insights into the interaction process from order placement to customer feedback."
      ],
      "metadata": {
        "id": "aJV4KIxSnxay"
      }
    },
    {
      "cell_type": "markdown",
      "source": [
        "### Check Unique Values for each variable."
      ],
      "metadata": {
        "id": "u3PMJOP6ngxN"
      }
    },
    {
      "cell_type": "code",
      "source": [
        "# Check Unique Values for each variable.\n",
        "for col in df.columns:\n",
        "    print(f\"{col}: {df[col].nunique()} unique values\")"
      ],
      "metadata": {
        "id": "zms12Yq5n-jE"
      },
      "execution_count": null,
      "outputs": []
    },
    {
      "cell_type": "markdown",
      "source": [
        "## 3. ***Data Wrangling***"
      ],
      "metadata": {
        "id": "dauF4eBmngu3"
      }
    },
    {
      "cell_type": "markdown",
      "source": [
        "### Data Wrangling Code"
      ],
      "metadata": {
        "id": "bKJF3rekwFvQ"
      }
    },
    {
      "cell_type": "code",
      "source": [
        "# Write your code to make your dataset analysis ready.\n",
        "# Example: Converting date columns\n",
        "df['order_date_time'] = pd.to_datetime(df['order_date_time'], dayfirst=True)\n",
        "\n",
        "df['Issue_reported at'] = pd.to_datetime(df['Issue_reported at'], dayfirst=True)\n",
        "\n",
        "df['issue_responded'] = pd.to_datetime(df['issue_responded'], dayfirst=True)\n",
        "\n",
        "df['Survey_response_Date'] = pd.to_datetime(df['Survey_response_Date'], dayfirst=True)\n",
        "\n",
        "\n",
        "# Creating response time column\n",
        "df['Response Time (hrs)'] = (df['issue_responded'] - df['Issue_reported at']).dt.total_seconds() / 3600"
      ],
      "metadata": {
        "id": "wk-9a2fpoLcV"
      },
      "execution_count": null,
      "outputs": []
    },
    {
      "cell_type": "markdown",
      "source": [
        "### What all manipulations have you done and insights you found?"
      ],
      "metadata": {
        "id": "MSa1f5Uengrz"
      }
    },
    {
      "cell_type": "markdown",
      "source": [
        "* Converted datetime columns for time-based analysis.\n",
        "* Created a Response Time metric to evaluate agent responsiveness.\n",
        "* Cleaned missing values where appropriate.\n",
        "* Insights: Longer response times correlate with lower CSAT scores."
      ],
      "metadata": {
        "id": "LbyXE7I1olp8"
      }
    },
    {
      "cell_type": "markdown",
      "source": [
        "## ***4. Data Vizualization, Storytelling & Experimenting with charts : Understand the relationships between variables***"
      ],
      "metadata": {
        "id": "GF8Ens_Soomf"
      }
    },
    {
      "cell_type": "markdown",
      "source": [
        "## 1. **Univariate Analysis**"
      ],
      "metadata": {
        "id": "3JFlalHgyfdI"
      }
    },
    {
      "cell_type": "markdown",
      "source": [
        "#### Chart - 1"
      ],
      "metadata": {
        "id": "0wOQAZs5pc--"
      }
    },
    {
      "cell_type": "code",
      "source": [
        "# Chart - 1 visualization code\n",
        "#Distribution of CSAT Score\n",
        "import seaborn as sns\n",
        "import matplotlib.pyplot as plt\n",
        "\n",
        "plt.figure(figsize=(8,6))\n",
        "sns.countplot(x='CSAT Score', data=df, palette='Blues')\n",
        "plt.title('Distribution of CSAT Scores')\n",
        "plt.xlabel('CSAT Score')\n",
        "plt.ylabel('Count')\n",
        "plt.show()\n"
      ],
      "metadata": {
        "id": "7v_ESjsspbW7"
      },
      "execution_count": null,
      "outputs": []
    },
    {
      "cell_type": "markdown",
      "source": [
        "##### 1. Why did you pick the specific chart?"
      ],
      "metadata": {
        "id": "K5QZ13OEpz2H"
      }
    },
    {
      "cell_type": "markdown",
      "source": [
        "A bar chart effectively shows the frequency of each score.\n",
        "It helps understand how satisfied customers are overall, and which score is most common.\n"
      ],
      "metadata": {
        "id": "XESiWehPqBRc"
      }
    },
    {
      "cell_type": "markdown",
      "source": [
        "##### 2. What is/are the insight(s) found from the chart?"
      ],
      "metadata": {
        "id": "lQ7QKXXCp7Bj"
      }
    },
    {
      "cell_type": "markdown",
      "source": [
        "* The majority of customers gave a CSAT score of 5, indicating high satisfaction with the customer service experience.\n",
        "\n",
        "* There’s also a noticeable number of customers who rated 1 and 4, showing some dissatisfaction and neutral experiences.\n",
        "* Very few customers gave a score of 2 or 3, indicating less moderate feedback—customers tend to feel strongly positive or negative."
      ],
      "metadata": {
        "id": "C_j1G7yiqdRP"
      }
    },
    {
      "cell_type": "markdown",
      "source": [
        "##### 3. Will the gained insights help creating a positive business impact?\n",
        "Are there any insights that lead to negative growth? Justify with specific reason."
      ],
      "metadata": {
        "id": "448CDAPjqfQr"
      }
    },
    {
      "cell_type": "markdown",
      "source": [
        "* The presence of many CSAT score 1 ratings is a red flag.\n",
        "It indicates a subset of dissatisfied customers, which may lead to customer churn, negative reviews, or complaints.\n",
        "\n",
        "* Root cause analysis should be done to investigate why some customers are unhappy (e.g., agent performance, handling time, issue resolution).\n"
      ],
      "metadata": {
        "id": "3cspy4FjqxJW"
      }
    },
    {
      "cell_type": "markdown",
      "source": [
        "#### Chart - 2"
      ],
      "metadata": {
        "id": "KSlN3yHqYklG"
      }
    },
    {
      "cell_type": "code",
      "source": [
        "# Chart - 2 visualization code\n",
        "# Distribution of Agent Shift\n",
        "plt.figure(figsize=(8,6))\n",
        "sns.countplot(x='Agent Shift', data=df, palette='pastel')\n",
        "plt.title('Agent Shift Distribution')\n",
        "plt.xlabel('Shift')\n",
        "plt.ylabel('Count')\n",
        "plt.show()"
      ],
      "metadata": {
        "id": "R4YgtaqtYklH"
      },
      "execution_count": null,
      "outputs": []
    },
    {
      "cell_type": "markdown",
      "source": [
        "##### 1. Why did you pick the specific chart?"
      ],
      "metadata": {
        "id": "t6dVpIINYklI"
      }
    },
    {
      "cell_type": "markdown",
      "source": [
        "Agent Shift is a categorical variable, and a bar chart effectively displays the count of occurrences for each category."
      ],
      "metadata": {
        "id": "5aaW0BYyYklI"
      }
    },
    {
      "cell_type": "markdown",
      "source": [
        "##### 2. What is/are the insight(s) found from the chart?"
      ],
      "metadata": {
        "id": "ijmpgYnKYklI"
      }
    },
    {
      "cell_type": "markdown",
      "source": [
        "* The Morning shift has the highest number of agents (or support cases handled), followed by the Evening shift. Afternoon, Split, and Night shifts have significantly fewer cases/agents in comparison.\n",
        "\n",
        "* This suggests that business operations or customer queries peak during morning and evening, requiring more agents during those times. Alternatively, it could indicate staffing preference or resource allocation towards the morning/evening shifts."
      ],
      "metadata": {
        "id": "PSx9atu2YklI"
      }
    },
    {
      "cell_type": "markdown",
      "source": [
        "##### 3. Will the gained insights help creating a positive business impact?\n",
        "Are there any insights that lead to negative growth? Justify with specific reason."
      ],
      "metadata": {
        "id": "-JiQyfWJYklI"
      }
    },
    {
      "cell_type": "markdown",
      "source": [
        "* Low staffing in night or split shifts could lead to unattended customer issues during those hours, impacting global customers in different time zones.\n",
        "* If customer demand is high at night but staffing is low, this could lead to delayed responses, poor CSAT scores, and customer churn."
      ],
      "metadata": {
        "id": "BcBbebzrYklV"
      }
    },
    {
      "cell_type": "markdown",
      "source": [
        "#### Chart - 3"
      ],
      "metadata": {
        "id": "EM7whBJCYoAo"
      }
    },
    {
      "cell_type": "code",
      "source": [
        "# Chart - 3 visualization code\n",
        "# Count of Interaction Categories\n",
        "plt.figure(figsize=(10,6))\n",
        "sns.countplot(y='category', data=df, order=df['category'].value_counts().index, palette='viridis')\n",
        "plt.title('Interaction Category Distribution')\n",
        "plt.xlabel('Count')\n",
        "plt.ylabel('Category')\n",
        "plt.show()\n"
      ],
      "metadata": {
        "id": "t6GMdE67YoAp"
      },
      "execution_count": null,
      "outputs": []
    },
    {
      "cell_type": "markdown",
      "source": [
        "##### 1. Why did you pick the specific chart?"
      ],
      "metadata": {
        "id": "fge-S5ZAYoAp"
      }
    },
    {
      "cell_type": "markdown",
      "source": [
        "A bar chart is ideal for comparing the frequency of different customer support interaction types.The Category variable is categorical with long labels, making a horizontal layout more readable."
      ],
      "metadata": {
        "id": "5dBItgRVYoAp"
      }
    },
    {
      "cell_type": "markdown",
      "source": [
        "##### 2. What is/are the insight(s) found from the chart?"
      ],
      "metadata": {
        "id": "85gYPyotYoAp"
      }
    },
    {
      "cell_type": "markdown",
      "source": [
        "* The top interaction categories are Returns and Order Related issues, with Returns being the highest by a large margin.\n",
        "* Categories like Refund Related, Product Queries, and Payments related have moderate interaction volumes."
      ],
      "metadata": {
        "id": "4jstXR6OYoAp"
      }
    },
    {
      "cell_type": "markdown",
      "source": [
        "##### 3. Will the gained insights help creating a positive business impact?\n",
        "Are there any insights that lead to negative growth? Justify with specific reason."
      ],
      "metadata": {
        "id": "RoGjAbkUYoAp"
      }
    },
    {
      "cell_type": "markdown",
      "source": [
        "* The high volume of return-related queries could indicate product quality issues, sizing problems, or delivery failures. If not addressed, this leads to higher operational costs and customer dissatisfaction.\n",
        "* Excessive returns also impact profitability and brand reputation, suggesting the need for cross-functional collaboration (product, logistics, customer service)."
      ],
      "metadata": {
        "id": "zfJ8IqMcYoAp"
      }
    },
    {
      "cell_type": "markdown",
      "source": [
        "#### Chart - 4"
      ],
      "metadata": {
        "id": "4Of9eVA-YrdM"
      }
    },
    {
      "cell_type": "code",
      "source": [
        "# Chart - 4 visualization code\n",
        "# Tenure Bucket Distribution\n",
        "plt.figure(figsize=(8,6))\n",
        "sns.countplot(x='Tenure Bucket', data=df, palette='Set2')\n",
        "plt.title('Agent Tenure Distribution')\n",
        "plt.xlabel('Tenure Bucket')\n",
        "plt.ylabel('Count')\n",
        "plt.show()"
      ],
      "metadata": {
        "id": "irlUoxc8YrdO"
      },
      "execution_count": null,
      "outputs": []
    },
    {
      "cell_type": "markdown",
      "source": [
        "##### 1. Why did you pick the specific chart?"
      ],
      "metadata": {
        "id": "iky9q4vBYrdO"
      }
    },
    {
      "cell_type": "markdown",
      "source": [
        "Bar charts allow for clear visualization of differences in the number of agents with varying experience levels.\n",
        "It helps quickly spot trends in workforce distribution, which is crucial for understanding performance, productivity, and training needs.\n"
      ],
      "metadata": {
        "id": "aJRCwT6DYrdO"
      }
    },
    {
      "cell_type": "markdown",
      "source": [
        "##### 2. What is/are the insight(s) found from the chart?"
      ],
      "metadata": {
        "id": "F6T5p64dYrdO"
      }
    },
    {
      "cell_type": "markdown",
      "source": [
        "* The highest number of agents fall in the \">90 days\" tenure bucket, indicating a large experienced workforce.\n",
        "* A significant portion of agents are in \"On Job Training\", suggesting ongoing recruitment or high turnover.\n",
        "* Mid-tenure buckets (0–90 days) have relatively lower counts, especially 61–90 days, indicating possible attrition or fast progression to the \">90\" category."
      ],
      "metadata": {
        "id": "Xx8WAJvtYrdO"
      }
    },
    {
      "cell_type": "markdown",
      "source": [
        "##### 3. Will the gained insights help creating a positive business impact?\n",
        "Are there any insights that lead to negative growth? Justify with specific reason."
      ],
      "metadata": {
        "id": "y-Ehk30pYrdP"
      }
    },
    {
      "cell_type": "markdown",
      "source": [
        "* A high volume of new or training agents may also indicate high attrition, which leads to increased training costs and potential service quality issues.\n",
        "* If too many agents remain in training for extended periods, it could strain resources and affect operational efficiency.\n",
        "* Low retention in 61–90 days might suggest burnout, dissatisfaction, or mismanagement, which can negatively impact business performance and customer experience."
      ],
      "metadata": {
        "id": "jLNxxz7MYrdP"
      }
    },
    {
      "cell_type": "markdown",
      "source": [
        "#### Chart - 5"
      ],
      "metadata": {
        "id": "bamQiAODYuh1"
      }
    },
    {
      "cell_type": "code",
      "source": [
        "# Chart - 5 visualization code\n",
        "# Product Category Distribution\n",
        "\n",
        "plt.figure(figsize=(10,6))\n",
        "sns.countplot(y='Product_category', data=df, order=df['Product_category'].value_counts().index, palette='coolwarm')\n",
        "plt.title('Product Category Distribution')\n",
        "plt.xlabel('Count')\n",
        "plt.ylabel('Product Category')\n",
        "plt.show()"
      ],
      "metadata": {
        "id": "TIJwrbroYuh3"
      },
      "execution_count": null,
      "outputs": []
    },
    {
      "cell_type": "markdown",
      "source": [
        "##### 1. Why did you pick the specific chart?"
      ],
      "metadata": {
        "id": "QHF8YVU7Yuh3"
      }
    },
    {
      "cell_type": "markdown",
      "source": [
        "It efficiently displays categorical comparisons, especially when category names are long (e.g., \"Books & General merchandise\").\n",
        "It helps easily compare product popularity or interaction frequency at a glance."
      ],
      "metadata": {
        "id": "dcxuIMRPYuh3"
      }
    },
    {
      "cell_type": "markdown",
      "source": [
        "##### 2. What is/are the insight(s) found from the chart?"
      ],
      "metadata": {
        "id": "GwzvFGzlYuh3"
      }
    },
    {
      "cell_type": "markdown",
      "source": [
        "* Electronics is the most interacted category, indicating high customer activity or demand.\n",
        "Lifestyle and Books & General merchandise also have strong presence, suggesting they are key revenue drivers.\n",
        "\n",
        "* Mid-tier categories like Mobile, Home, and Home Appliances show moderate engagement, offering potential growth opportunities.\n",
        "\n",
        "* GiftCards and Affiliates have minimal engagement, possibly signaling low sales volume or limited product range."
      ],
      "metadata": {
        "id": "uyqkiB8YYuh3"
      }
    },
    {
      "cell_type": "markdown",
      "source": [
        "##### 3. Will the gained insights help creating a positive business impact?\n",
        "Are there any insights that lead to negative growth? Justify with specific reason."
      ],
      "metadata": {
        "id": "qYpmQ266Yuh3"
      }
    },
    {
      "cell_type": "markdown",
      "source": [
        "* High engagement in Electronics might also imply high return rates or complaints, which could impact profit margins if not addressed.\n",
        "* Neglected categories (e.g., GiftCards) could represent lost revenue opportunities if not analyzed further to understand customer disinterest."
      ],
      "metadata": {
        "id": "_WtzZ_hCYuh4"
      }
    },
    {
      "cell_type": "markdown",
      "source": [
        "## 2. **Bivariate Analysis**"
      ],
      "metadata": {
        "id": "-V4JgDW2yU00"
      }
    },
    {
      "cell_type": "markdown",
      "source": [
        "#### Chart - 6"
      ],
      "metadata": {
        "id": "OH-pJp9IphqM"
      }
    },
    {
      "cell_type": "code",
      "source": [
        "# Chart - 6 visualization code\n",
        "# CSAT Score by Agent Shift\n",
        "plt.figure(figsize=(8,6))\n",
        "sns.boxplot(x='Agent Shift', y='CSAT Score', data=df, palette='Accent')\n",
        "plt.title('CSAT Score by Agent Shift')\n",
        "plt.xlabel('Agent Shift')\n",
        "plt.ylabel('CSAT Score')\n",
        "plt.show()"
      ],
      "metadata": {
        "id": "kuRf4wtuphqN"
      },
      "execution_count": null,
      "outputs": []
    },
    {
      "cell_type": "markdown",
      "source": [
        "##### 1. Why did you pick the specific chart?"
      ],
      "metadata": {
        "id": "bbFf2-_FphqN"
      }
    },
    {
      "cell_type": "markdown",
      "source": [
        "It effectively displays the distribution of CSAT (Customer Satisfaction) scores across different agent shifts.\n",
        "It highlights medians, variability, and outliers in customer satisfaction, which are crucial for operational decision-making.\n",
        "It allows quick comparison of shifts to identify which time slots perform best or worst in terms of customer experience."
      ],
      "metadata": {
        "id": "loh7H2nzphqN"
      }
    },
    {
      "cell_type": "markdown",
      "source": [
        "##### 2. What is/are the insight(s) found from the chart?"
      ],
      "metadata": {
        "id": "_ouA3fa0phqN"
      }
    },
    {
      "cell_type": "markdown",
      "source": [
        "* All shifts generally maintain high CSAT scores, with medians around 4 to 5, indicating overall good customer service.\n",
        "* The Split shift shows the highest consistency with very few outliers and scores tightly clustered near 5, suggesting exceptional performance.\n",
        "* Morning, Evening, Afternoon, and Night shifts show more variability and outliers, including low scores (1-2), indicating inconsistent customer experiences.\n",
        "* Outliers across all shifts could signal occasional service issues or escalations."
      ],
      "metadata": {
        "id": "VECbqPI7phqN"
      }
    },
    {
      "cell_type": "markdown",
      "source": [
        "##### 3. Will the gained insights help creating a positive business impact?\n",
        "Are there any insights that lead to negative growth? Justify with specific reason."
      ],
      "metadata": {
        "id": "Seke61FWphqN"
      }
    },
    {
      "cell_type": "markdown",
      "source": [
        "* Persistent outliers with low scores could reflect underlying issues, such as agent fatigue, poor training, or system inefficiencies in certain shifts.\n",
        "* If ignored, these dips in satisfaction might lead to negative reviews, loss of customer trust, and reduced repeat business.\n"
      ],
      "metadata": {
        "id": "DW4_bGpfphqN"
      }
    },
    {
      "cell_type": "markdown",
      "source": [
        "#### Chart - 7"
      ],
      "metadata": {
        "id": "PIIx-8_IphqN"
      }
    },
    {
      "cell_type": "code",
      "source": [
        "# Chart - 7 visualization code\n",
        "# CSAT Score by Tenure Bucket\n",
        "plt.figure(figsize=(8,6))\n",
        "sns.boxplot(x='Tenure Bucket', y='CSAT Score', data=df, palette='Spectral')\n",
        "plt.title('CSAT Score by Agent Tenure')\n",
        "plt.xlabel('Tenure Bucket')\n",
        "plt.ylabel('CSAT Score')\n",
        "plt.show()"
      ],
      "metadata": {
        "id": "lqAIGUfyphqO"
      },
      "execution_count": null,
      "outputs": []
    },
    {
      "cell_type": "markdown",
      "source": [
        "##### 1. Why did you pick the specific chart?"
      ],
      "metadata": {
        "id": "t27r6nlMphqO"
      }
    },
    {
      "cell_type": "markdown",
      "source": [
        "It's an ideal choice to explore whether agent experience (tenure) correlates with customer satisfaction.It allows comparison of CSAT score distributions across different tenure buckets."
      ],
      "metadata": {
        "id": "iv6ro40sphqO"
      }
    },
    {
      "cell_type": "markdown",
      "source": [
        "##### 2. What is/are the insight(s) found from the chart?"
      ],
      "metadata": {
        "id": "r2jJGEOYphqO"
      }
    },
    {
      "cell_type": "markdown",
      "source": [
        "* All tenure buckets maintain high median CSAT scores (~5), indicating consistent customer satisfaction across experience levels.\n",
        "* On Job Training (OJT) agents surprisingly have similar or slightly higher performance in CSAT scores compared to experienced agents.\n",
        "* Each tenure group shows similar variability and presence of outliers, especially at low scores (1-2), suggesting occasional service lapses regardless of tenure.\n",
        "* The tenure length doesn't significantly impact CSAT, which suggests new and experienced agents perform similarly from a customer satisfaction standpoint.\n"
      ],
      "metadata": {
        "id": "Po6ZPi4hphqO"
      }
    },
    {
      "cell_type": "markdown",
      "source": [
        "##### 3. Will the gained insights help creating a positive business impact?\n",
        "Are there any insights that lead to negative growth? Justify with specific reason."
      ],
      "metadata": {
        "id": "b0JNsNcRphqO"
      }
    },
    {
      "cell_type": "markdown",
      "source": [
        "* Confidence in newly trained agents to deliver high customer satisfaction, possibly reducing training costs or time to deploy agents on the floor.\n",
        "* The consistent CSAT performance across tenures indicates a robust support system, helping ensure uniform service standards."
      ],
      "metadata": {
        "id": "xvSq8iUTphqO"
      }
    },
    {
      "cell_type": "markdown",
      "source": [
        "#### Chart - 8"
      ],
      "metadata": {
        "id": "BZR9WyysphqO"
      }
    },
    {
      "cell_type": "code",
      "source": [
        "# Chart - 8 visualization code\n",
        "# Handling Time vs CSAT Score\n",
        "plt.figure(figsize=(8,6))\n",
        "sns.scatterplot(x='connected_handling_time', y='CSAT Score', data=df, alpha=0.6)\n",
        "plt.title('Handling Time vs CSAT Score')\n",
        "plt.xlabel('Handling Time (min)')\n",
        "plt.ylabel('CSAT Score')\n",
        "plt.show()"
      ],
      "metadata": {
        "id": "TdPTWpAVphqO"
      },
      "execution_count": null,
      "outputs": []
    },
    {
      "cell_type": "markdown",
      "source": [
        "##### 1. Why did you pick the specific chart?"
      ],
      "metadata": {
        "id": "jj7wYXLtphqO"
      }
    },
    {
      "cell_type": "markdown",
      "source": [
        "It effectively shows the relationship (or lack thereof) between two continuous variables — in this case, Handling Time (min) and CSAT Score.\n",
        "Ideal for identifying patterns, clusters, and outliers to understand if longer handling times correlate with customer satisfaction."
      ],
      "metadata": {
        "id": "Ob8u6rCTphqO"
      }
    },
    {
      "cell_type": "markdown",
      "source": [
        "##### 2. What is/are the insight(s) found from the chart?"
      ],
      "metadata": {
        "id": "eZrbJ2SmphqO"
      }
    },
    {
      "cell_type": "markdown",
      "source": [
        "* The majority of CSAT scores are 5, regardless of handling time, especially when handling time is below ~1000 minutes.\n",
        "* There's a significant cluster of high CSAT scores (4–5) for handling times ranging from 0 to 750 minutes, showing that customers are generally satisfied even with moderate handling durations.\n",
        "* Very long handling times (>1000 mins) are rare, and associated CSAT scores are often low (1–2), indicating dissatisfaction for extremely prolonged cases.\n",
        "* Low CSAT scores (1–2) are scattered across all handling times but concentrated more as handling time increases, suggesting longer resolutions may risk customer dissatisfaction."
      ],
      "metadata": {
        "id": "mZtgC_hjphqO"
      }
    },
    {
      "cell_type": "markdown",
      "source": [
        "##### 3. Will the gained insights help creating a positive business impact?\n",
        "Are there any insights that lead to negative growth? Justify with specific reason."
      ],
      "metadata": {
        "id": "rFu4xreNphqO"
      }
    },
    {
      "cell_type": "markdown",
      "source": [
        "* Handling times beyond 1000 minutes are a risk, often correlating with low satisfaction.\n",
        "* These long cases can lead to customer churn, reputational damage, and increased operational costs if not managed well.\n",
        "* Ignoring prolonged handling times can lead to inefficient service operations and potential loss in revenue."
      ],
      "metadata": {
        "id": "ey_0qi68phqO"
      }
    },
    {
      "cell_type": "markdown",
      "source": [
        "#### Chart - 9"
      ],
      "metadata": {
        "id": "YJ55k-q6phqO"
      }
    },
    {
      "cell_type": "code",
      "source": [
        "# Chart - 9 visualization code\n",
        "# Issue Reported vs Responded Time Gap (in hours)\n",
        "df['Issue_reported at'] = pd.to_datetime(df['Issue_reported at'], format='%d/%m/%Y %H:%M')\n",
        "df['issue_responded'] = pd.to_datetime(df['issue_responded'], format='%d/%m/%Y %H:%M')\n",
        "\n",
        "# Calculate time gap\n",
        "df['response_time_hrs'] = (df['issue_responded'] - df['Issue_reported at']).dt.total_seconds() / 3600\n",
        "\n",
        "plt.figure(figsize=(10,6))\n",
        "sns.histplot(df['response_time_hrs'], bins=30, kde=True, color='purple')\n",
        "plt.title('Distribution of Response Time (hours)')\n",
        "plt.xlabel('Response Time (hours)')\n",
        "plt.ylabel('Frequency')\n",
        "plt.show()"
      ],
      "metadata": {
        "id": "B2aS4O1ophqO"
      },
      "execution_count": null,
      "outputs": []
    },
    {
      "cell_type": "markdown",
      "source": [
        "##### 1. Why did you pick the specific chart?"
      ],
      "metadata": {
        "id": "gCFgpxoyphqP"
      }
    },
    {
      "cell_type": "markdown",
      "source": [
        "* It effectively shows the distribution and frequency of a continuous variable — Response Time (hours).\n",
        "Helps identify central tendencies, spread, and outliers.\n",
        "* The KDE curve provides a smooth estimate of the probability density, making it easier to understand patterns and skewness in the data."
      ],
      "metadata": {
        "id": "TVxDimi2phqP"
      }
    },
    {
      "cell_type": "markdown",
      "source": [
        "##### 2. What is/are the insight(s) found from the chart?"
      ],
      "metadata": {
        "id": "OVtJsKN_phqQ"
      }
    },
    {
      "cell_type": "markdown",
      "source": [
        "* The majority of response times are concentrated between 0 to 5 hours, with a sharp peak close to 0–1 hour, indicating quick response rates in most cases.\n",
        "* The distribution is right-skewed, with a long tail extending beyond 20 hours, suggesting a small proportion of cases take significantly longer to respond to.\n",
        "* There are some negative values in the data (visible to the left of zero), which may indicate data quality issues or incorrect timestamp calculations that need addressing."
      ],
      "metadata": {
        "id": "ngGi97qjphqQ"
      }
    },
    {
      "cell_type": "markdown",
      "source": [
        "##### 3. Will the gained insights help creating a positive business impact?\n",
        "Are there any insights that lead to negative growth? Justify with specific reason."
      ],
      "metadata": {
        "id": "lssrdh5qphqQ"
      }
    },
    {
      "cell_type": "markdown",
      "source": [
        "* Long-tail delays in response time could lead to customer dissatisfaction, especially if expectations are unmet.\n",
        "* Presence of negative response times may lead to erroneous reporting and decision-making, indicating the need for data validation and cleansing. If unaddressed, this could impact trust in metrics and hinder performance optimization."
      ],
      "metadata": {
        "id": "tBpY5ekJphqQ"
      }
    },
    {
      "cell_type": "markdown",
      "source": [
        "#### Chart - 10"
      ],
      "metadata": {
        "id": "U2RJ9gkRphqQ"
      }
    },
    {
      "cell_type": "code",
      "source": [
        "# Chart - 10 visualization code\n",
        "# CSAT by Category\n",
        "plt.figure(figsize=(10,6))\n",
        "sns.boxplot(y='category', x='CSAT Score', data=df, palette='spring')\n",
        "plt.title('CSAT Score by Interaction Category')\n",
        "plt.xlabel('CSAT Score')\n",
        "plt.ylabel('Interaction Category')\n",
        "plt.show()"
      ],
      "metadata": {
        "id": "GM7a4YP4phqQ"
      },
      "execution_count": null,
      "outputs": []
    },
    {
      "cell_type": "markdown",
      "source": [
        "##### 1. Why did you pick the specific chart?"
      ],
      "metadata": {
        "id": "1M8mcRywphqQ"
      }
    },
    {
      "cell_type": "markdown",
      "source": [
        "* It is ideal for comparing CSAT scores across multiple interaction categories.\n",
        "Highlights median, quartiles, and outliers, giving a complete view of the distribution of satisfaction for each category.\n",
        "* The horizontal format ensures readability for long category names, improving clarity and interpretation."
      ],
      "metadata": {
        "id": "8agQvks0phqQ"
      }
    },
    {
      "cell_type": "markdown",
      "source": [
        "##### 2. What is/are the insight(s) found from the chart?"
      ],
      "metadata": {
        "id": "tgIPom80phqQ"
      }
    },
    {
      "cell_type": "markdown",
      "source": [
        "* Most categories have high median CSAT scores around 5, indicating generally positive customer satisfaction across the board.\n",
        "* ‘Others’ category has the widest spread of CSAT scores, with some very low scores (as low as 1), indicating inconsistent experiences in this category.\n",
        "* A few outliers exist in every category, suggesting isolated poor experiences that could be further investigated."
      ],
      "metadata": {
        "id": "Qp13pnNzphqQ"
      }
    },
    {
      "cell_type": "markdown",
      "source": [
        "##### 3. Will the gained insights help creating a positive business impact?\n",
        "Are there any insights that lead to negative growth? Justify with specific reason."
      ],
      "metadata": {
        "id": "JMzcOPDDphqR"
      }
    },
    {
      "cell_type": "markdown",
      "source": [
        "* If the ‘Others’ category is not addressed, it could drag down overall satisfaction and brand perception due to inconsistent support.\n",
        "* Outliers in sensitive categories (e.g., Refund Related, Payments related) might lead to negative reviews or churn if not resolved proactively."
      ],
      "metadata": {
        "id": "R4Ka1PC2phqR"
      }
    },
    {
      "cell_type": "markdown",
      "source": [
        "## 3. **Multivariate Analysis**"
      ],
      "metadata": {
        "id": "Gf8RvDbnzBGo"
      }
    },
    {
      "cell_type": "markdown",
      "source": [
        "#### Chart - 11"
      ],
      "metadata": {
        "id": "x-EpHcCOp1ci"
      }
    },
    {
      "cell_type": "code",
      "source": [
        "# Chart - 11 visualization code\n",
        "# Response Time by Agent Shift\n",
        "plt.figure(figsize=(8,6))\n",
        "sns.boxplot(x='Agent Shift', y='response_time_hrs', data=df, palette='Set1')\n",
        "plt.title('Response Time by Agent Shift')\n",
        "plt.xlabel('Agent Shift')\n",
        "plt.ylabel('Response Time (hrs)')\n",
        "plt.show()"
      ],
      "metadata": {
        "id": "mAQTIvtqp1cj"
      },
      "execution_count": null,
      "outputs": []
    },
    {
      "cell_type": "markdown",
      "source": [
        "##### 1. Why did you pick the specific chart?"
      ],
      "metadata": {
        "id": "X_VqEhTip1ck"
      }
    },
    {
      "cell_type": "markdown",
      "source": [
        "\n",
        "Boxplot effectively displays the distribution, median, and outliers of response times for each agent shift. This helps in easily comparing central tendencies (medians) and variability across different shifts, which is essential to understand operational efficiency and consistency among shifts."
      ],
      "metadata": {
        "id": "-vsMzt_np1ck"
      }
    },
    {
      "cell_type": "markdown",
      "source": [
        "##### 2. What is/are the insight(s) found from the chart?"
      ],
      "metadata": {
        "id": "8zGJKyg5p1ck"
      }
    },
    {
      "cell_type": "markdown",
      "source": [
        "* All shifts show a similar median response time, but there are significant outliers in each shift, especially in the Split and Night shifts, indicating occasional very high response times.\n",
        "* Split and Night shifts appear to have more extreme outliers, suggesting inconsistency or lower staffing during these times, which could lead to delays.\n",
        "* Morning and Evening shifts show a more compact distribution, implying more consistent performance."
      ],
      "metadata": {
        "id": "ZYdMsrqVp1ck"
      }
    },
    {
      "cell_type": "markdown",
      "source": [
        "##### 3. Will the gained insights help creating a positive business impact?\n",
        "Are there any insights that lead to negative growth? Justify with specific reason."
      ],
      "metadata": {
        "id": "PVzmfK_Ep1ck"
      }
    },
    {
      "cell_type": "markdown",
      "source": [
        "If the inconsistent response times during certain shifts are not addressed, it may result in customer dissatisfaction, especially for late-night or Split shift queries, leading to loss of trust and customers, thereby negatively impacting revenue."
      ],
      "metadata": {
        "id": "druuKYZpp1ck"
      }
    },
    {
      "cell_type": "markdown",
      "source": [
        "#### Chart - 12"
      ],
      "metadata": {
        "id": "n3dbpmDWp1ck"
      }
    },
    {
      "cell_type": "code",
      "source": [
        "# Chart - 12 visualization code\n",
        "# Average Handling Time by Category\n",
        "avg_handling = df.groupby('category')['connected_handling_time'].mean().sort_values()\n",
        "\n",
        "plt.figure(figsize=(10,6))\n",
        "avg_handling.plot(kind='barh', color='skyblue')\n",
        "plt.title('Average Handling Time by Category')\n",
        "plt.xlabel('Avg Handling Time (min)')\n",
        "plt.ylabel('Category')\n",
        "plt.show()"
      ],
      "metadata": {
        "id": "bwevp1tKp1ck"
      },
      "execution_count": null,
      "outputs": []
    },
    {
      "cell_type": "markdown",
      "source": [
        "##### 1. Why did you pick the specific chart?"
      ],
      "metadata": {
        "id": "ylSl6qgtp1ck"
      }
    },
    {
      "cell_type": "markdown",
      "source": [
        "horizontal bar chart because it is ideal for:\n",
        "\n",
        "Comparing categorical variables (categories of customer queries) against a numeric metric (average handling time).\n",
        "\n",
        "It provides a clear, visual hierarchy, making it easy to spot which categories take more or less time."
      ],
      "metadata": {
        "id": "m2xqNkiQp1ck"
      }
    },
    {
      "cell_type": "markdown",
      "source": [
        "##### 2. What is/are the insight(s) found from the chart?"
      ],
      "metadata": {
        "id": "ZWILFDl5p1ck"
      }
    },
    {
      "cell_type": "markdown",
      "source": [
        "* Payments related queries have the highest average handling time (1100 min), followed by Refund Related (900 min).\n",
        "* Categories like Product Queries and Order Related have the lowest handling times (~300 min).\n",
        "* Categories like Onboarding, Offers & Cashback, Others have zero or negligible handling times, possibly due to low volume or simplified processes.\n",
        "* App/Website and Shopzilla Related have moderate handling times, suggesting room for process optimization."
      ],
      "metadata": {
        "id": "x-lUsV2mp1ck"
      }
    },
    {
      "cell_type": "markdown",
      "source": [
        "##### 3. Will the gained insights help creating a positive business impact?\n",
        "Are there any insights that lead to negative growth? Justify with specific reason."
      ],
      "metadata": {
        "id": "M7G43BXep1ck"
      }
    },
    {
      "cell_type": "markdown",
      "source": [
        "* If Payments and Refund issues continue to take excessive time, it can lead to customer frustration, negative reviews, and churn, especially in an e-commerce or fintech setting.\n",
        "* Delayed resolutions in high-value categories (like payments) can impact customer trust and loyalty — directly hitting revenue.\n",
        "* The imbalance in handling times could also result in agent burnout in high-load categories, affecting morale and service quality."
      ],
      "metadata": {
        "id": "5wwDJXsLp1cl"
      }
    },
    {
      "cell_type": "markdown",
      "source": [
        "#### Chart - 13"
      ],
      "metadata": {
        "id": "Ag9LCva-p1cl"
      }
    },
    {
      "cell_type": "code",
      "source": [
        "# Chart - 13 visualization code\n",
        "# CSAT by Product Category\n",
        "plt.figure(figsize=(10,6))\n",
        "sns.boxplot(y='Product_category', x='CSAT Score', data=df, palette='cool')\n",
        "plt.title('CSAT Score by Product Category')\n",
        "plt.xlabel('CSAT Score')\n",
        "plt.ylabel('Product Category')\n",
        "plt.show()"
      ],
      "metadata": {
        "id": "EUfxeq9-p1cl"
      },
      "execution_count": null,
      "outputs": []
    },
    {
      "cell_type": "markdown",
      "source": [
        "##### 1. Why did you pick the specific chart?"
      ],
      "metadata": {
        "id": "E6MkPsBcp1cl"
      }
    },
    {
      "cell_type": "markdown",
      "source": [
        "It’s perfect for visualizing the distribution of CSAT scores across different product categories.\n",
        "It shows central tendency (median), spread (interquartile range), and outliers, giving a complete picture of customer satisfaction for each category."
      ],
      "metadata": {
        "id": "V22bRsFWp1cl"
      }
    },
    {
      "cell_type": "markdown",
      "source": [
        "##### 2. What is/are the insight(s) found from the chart?"
      ],
      "metadata": {
        "id": "2cELzS2fp1cl"
      }
    },
    {
      "cell_type": "markdown",
      "source": [
        "* Most product categories have high median CSAT scores, generally above 4.0, indicating overall good customer satisfaction.\n",
        "* Categories like Mobile, Home Appliances, Furniture, and GiftCards have consistent high satisfaction with minimal variability.\n",
        "* GiftCards show the highest and most consistent CSAT score, possibly due to low complexity in service.\n",
        "* Lifestyle and Electronics have more spread and visible outliers, indicating variability in customer experiences—some customers are very dissatisfied (scores around 1-2).\n",
        "* Outliers are visible across all categories, meaning some individual experiences are notably negative, even in well-rated categories.\n"
      ],
      "metadata": {
        "id": "ozQPc2_Ip1cl"
      }
    },
    {
      "cell_type": "markdown",
      "source": [
        "##### 3. Will the gained insights help creating a positive business impact?\n",
        "Are there any insights that lead to negative growth? Justify with specific reason."
      ],
      "metadata": {
        "id": "3MPXvC8up1cl"
      }
    },
    {
      "cell_type": "markdown",
      "source": [
        "* Ignoring outliers and variability in Lifestyle and Electronics could lead to customer churn, negative word-of-mouth, and lower repeat purchases.\n",
        "* Persistently low individual experiences can hurt brand reputation, especially in categories with high market competition."
      ],
      "metadata": {
        "id": "GL8l1tdLp1cl"
      }
    },
    {
      "cell_type": "markdown",
      "source": [
        "#### Chart - 14 - Correlation Heatmap"
      ],
      "metadata": {
        "id": "NC_X3p0fY2L0"
      }
    },
    {
      "cell_type": "code",
      "source": [
        "# Correlation Heatmap visualization code\n",
        "plt.figure(figsize=(8,6))\n",
        "sns.heatmap(df[['connected_handling_time', 'response_time_hrs', 'CSAT Score']].corr(), annot=True, cmap='coolwarm')\n",
        "plt.title('Correlation Heatmap')\n",
        "plt.show()"
      ],
      "metadata": {
        "id": "xyC9zolEZNRQ"
      },
      "execution_count": null,
      "outputs": []
    },
    {
      "cell_type": "markdown",
      "source": [
        "##### 1. Why did you pick the specific chart?"
      ],
      "metadata": {
        "id": "UV0SzAkaZNRQ"
      }
    },
    {
      "cell_type": "markdown",
      "source": [
        "It visually displays the strength and direction of relationships between multiple numerical variables.\n",
        "Makes it easy to identify patterns or weak/strong correlations at a glance."
      ],
      "metadata": {
        "id": "DVPuT8LYZNRQ"
      }
    },
    {
      "cell_type": "markdown",
      "source": [
        "##### 2. What is/are the insight(s) found from the chart?"
      ],
      "metadata": {
        "id": "YPEH6qLeZNRQ"
      }
    },
    {
      "cell_type": "markdown",
      "source": [
        "* There is a weak negative correlation between response_time_hrs and CSAT Score (-0.15), indicating that as response time increases, CSAT Score tends to decrease slightly.\n",
        "* The correlation between connected_handling_time and CSAT Score is very weakly positive (0.048), suggesting minimal impact of handling time on satisfaction.\n",
        "* Response Time and Handling Time have a very weak negative correlation (-0.077), meaning they’re largely independent."
      ],
      "metadata": {
        "id": "bfSqtnDqZNRR"
      }
    },
    {
      "cell_type": "markdown",
      "source": [
        "#### Chart - 15 - Pair Plot"
      ],
      "metadata": {
        "id": "q29F0dvdveiT"
      }
    },
    {
      "cell_type": "code",
      "source": [
        "# Pair Plot visualization code\n",
        "sns.pairplot(df[['connected_handling_time', 'response_time_hrs', 'CSAT Score']], diag_kind='kde')\n",
        "plt.show()"
      ],
      "metadata": {
        "id": "o58-TEIhveiU"
      },
      "execution_count": null,
      "outputs": []
    },
    {
      "cell_type": "markdown",
      "source": [
        "##### 1. Why did you pick the specific chart?"
      ],
      "metadata": {
        "id": "EXh0U9oCveiU"
      }
    },
    {
      "cell_type": "markdown",
      "source": [
        "It shows the relationships between multiple variables through scatterplots, along with their individual distributions.\n",
        "It helps to detect patterns, trends, and outliers visually across all variable pairs."
      ],
      "metadata": {
        "id": "eMmPjTByveiU"
      }
    },
    {
      "cell_type": "markdown",
      "source": [
        "##### 2. What is/are the insight(s) found from the chart?"
      ],
      "metadata": {
        "id": "22aHeOlLveiV"
      }
    },
    {
      "cell_type": "markdown",
      "source": [
        "* CSAT Score Distribution is skewed toward higher values (4 and 5), indicating generally high satisfaction.\n",
        "* Response Time (hrs) is heavily skewed towards low values, but there are some outliers with very high response times.\n",
        "* Connected Handling Time also skews toward lower values, with some long-duration outliers.\n",
        "* There’s no strong visual trend between connected_handling_time and CSAT Score or response_time_hrs and CSAT Score, confirming weak correlations seen earlier.\n",
        "* A potential cluster at low response time + high CSAT hints that fast responses may contribute to better satisfaction, but it’s not definitive."
      ],
      "metadata": {
        "id": "uPQ8RGwHveiV"
      }
    },
    {
      "cell_type": "markdown",
      "source": [
        "## **5. Solution to Business Objective**"
      ],
      "metadata": {
        "id": "JcMwzZxoAimU"
      }
    },
    {
      "cell_type": "markdown",
      "source": [
        "#### What do you suggest the client to achieve Business Objective ?\n",
        "Explain Briefly."
      ],
      "metadata": {
        "id": "8G2x9gOozGDZ"
      }
    },
    {
      "cell_type": "markdown",
      "source": [
        "The primary business objective is to enhance customer satisfaction (CSAT) while optimizing handling and response times to improve overall service efficiency. Based on insights from the EDA, here are the actionable suggestions:\n",
        "\n",
        "1. Optimize Handling Times for Specific Categories:\n",
        "\n",
        "* Focus on reducing handling time for Payments and Refund-related issues, which currently have the highest average handling times.\n",
        "* Introduce automated workflows or dedicated support teams for these categories to expedite resolution.\n",
        "\n",
        "2. Improve Shift-wise Efficiency:\n",
        "\n",
        "* Monitor and optimize agent shifts, especially during Split and Night shifts where response times are more variable.\n",
        "* Implement AI-powered chatbots during off-peak shifts to reduce response delays.\n",
        "3. Address CSAT Variability:\n",
        "\n",
        "* Investigate and improve customer experience in Lifestyle and Electronics categories, which show high variation in CSAT scores.\n",
        "* Collect qualitative feedback from low-CSAT customers to identify pain points."
      ],
      "metadata": {
        "id": "pASKb0qOza21"
      }
    },
    {
      "cell_type": "markdown",
      "source": [
        "# **Conclusion**"
      ],
      "metadata": {
        "id": "gCX9965dhzqZ"
      }
    },
    {
      "cell_type": "markdown",
      "source": [
        "The EDA uncovered key insights into customer satisfaction trends, response times, and category-wise service performance. While the overall CSAT is high, challenges exist in certain categories and shifts, especially with long handling times for payment/refund issues and variable satisfaction in Lifestyle and Electronics.\n",
        "\n",
        "By implementing targeted improvements, leveraging automation, and fostering a data-driven service strategy, Flipkart can achieve its goal of delivering a superior customer service experience, driving higher customer retention, and creating positive business growth. Regular monitoring and iterative enhancements will ensure long-term success."
      ],
      "metadata": {
        "id": "Fjb1IsQkh3yE"
      }
    },
    {
      "cell_type": "markdown",
      "source": [
        "### ***Hurrah! You have successfully completed your EDA Capstone Project !!!***"
      ],
      "metadata": {
        "id": "gIfDvo9L0UH2"
      }
    }
  ]
}